{
 "cells": [
  {
   "cell_type": "code",
   "execution_count": null,
   "metadata": {},
   "outputs": [],
   "source": [
    "https://datastudio.google.com/reporting/28c8e99d-d543-4e87-888a-5dc92a796d7a"
   ]
  }
 ],
 "metadata": {
  "kernelspec": {
   "display_name": "Python 3",
   "language": "python",
   "name": "python3"
  },
  "language_info": {
   "name": "python",
   "version": "3.11.0 (main, Oct 24 2022, 18:26:48) [MSC v.1933 64 bit (AMD64)]"
  },
  "orig_nbformat": 4,
  "vscode": {
   "interpreter": {
    "hash": "35dc66fb56cd16c460134023984d31703a866f0c905b6ad9731d8e9cbdef115c"
   }
  }
 },
 "nbformat": 4,
 "nbformat_minor": 2
}
