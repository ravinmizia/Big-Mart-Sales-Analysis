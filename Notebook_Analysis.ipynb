{
 "cells": [
  {
   "attachments": {},
   "cell_type": "markdown",
   "metadata": {},
   "source": [
    "# Milestone 1"
   ]
  },
  {
   "attachments": {},
   "cell_type": "markdown",
   "metadata": {},
   "source": [
    "## Perkenalan"
   ]
  },
  {
   "attachments": {},
   "cell_type": "markdown",
   "metadata": {},
   "source": [
    "### Data Diri"
   ]
  },
  {
   "attachments": {},
   "cell_type": "markdown",
   "metadata": {},
   "source": [
    "Nama    : Ravin Mizia Rayeok\n",
    "\n",
    "Program : FTDS\n",
    "\n",
    "Batch   : 17"
   ]
  },
  {
   "attachments": {},
   "cell_type": "markdown",
   "metadata": {},
   "source": [
    "## Data Loading"
   ]
  },
  {
   "attachments": {},
   "cell_type": "markdown",
   "metadata": {},
   "source": [
    "`Dashboad tertera pada link berikut :`\n",
    "\n",
    "https://datastudio.google.com/reporting/28c8e99d-d543-4e87-888a-5dc92a796d7a\n",
    "\n",
    "\n",
    "Juga tertera pada file **M1_Dashboard.ipynb**"
   ]
  },
  {
   "attachments": {},
   "cell_type": "markdown",
   "metadata": {},
   "source": [
    "`Data yang diambil berasal dari Kaggle`\n",
    "\n",
    "https://www.kaggle.com/datasets/mrmorj/big-mart-sales"
   ]
  },
  {
   "attachments": {},
   "cell_type": "markdown",
   "metadata": {},
   "source": [
    "**Tentang Dataset**\n",
    "\n",
    "\n",
    "Data Scientist di Big Mart telah mengumpulkan data penjualan pada tahun 2013 untuk produk-produk toko Big Mart di berbagai kota, dan dengan segala variabel dan atributnya. Tujuannya adalah untuk membangun menganalisa penjualan dan memberkan rekomendasi yang terukur dan relevan."
   ]
  },
  {
   "attachments": {},
   "cell_type": "markdown",
   "metadata": {},
   "source": [
    "Item_Identifier              = produk ID\n",
    "\n",
    "Item_Weight                  = berat produk\n",
    "\n",
    "Item_Fat_Content             = tingkat konten lemak\n",
    "\n",
    "Item_Visibility              = presentase relativ display produk dibandingkan produk lain\n",
    "\n",
    "Item_Type                    = kategori produk\n",
    "\n",
    "Item_MRP                     = max harga retail produk\n",
    "\n",
    "Outlet_Identifier            = outlet ID\n",
    "\n",
    "Outlet_Establishment_Year    = tahun outlet didirikan\n",
    "\n",
    "Outlet_Size                  = klasifikasi besarnya outlet\n",
    "\n",
    "Outlet_Location_Type         = tipe kota\n",
    "\n",
    "Outlet_Type                  = tipe outlet\n",
    "\n",
    "Item_Outlet_Sales            = qty penjualan item di outlet"
   ]
  },
  {
   "attachments": {},
   "cell_type": "markdown",
   "metadata": {},
   "source": [
    "### Library "
   ]
  },
  {
   "cell_type": "code",
   "execution_count": 1,
   "metadata": {},
   "outputs": [],
   "source": [
    "import numpy as np\n",
    "import pandas as pd \n",
    "import matplotlib.pyplot as plt\n",
    "import seaborn as sns\n",
    "import scipy as sy\n",
    "import scipy.stats as stats"
   ]
  },
  {
   "cell_type": "code",
   "execution_count": 2,
   "metadata": {},
   "outputs": [
    {
     "name": "stdout",
     "output_type": "stream",
     "text": [
      "<class 'pandas.core.frame.DataFrame'>\n",
      "RangeIndex: 8523 entries, 0 to 8522\n",
      "Data columns (total 12 columns):\n",
      " #   Column                     Non-Null Count  Dtype  \n",
      "---  ------                     --------------  -----  \n",
      " 0   Item_Identifier            8523 non-null   object \n",
      " 1   Item_Weight                7060 non-null   float64\n",
      " 2   Item_Fat_Content           8523 non-null   object \n",
      " 3   Item_Visibility            8523 non-null   float64\n",
      " 4   Item_Type                  8523 non-null   object \n",
      " 5   Item_MRP                   8523 non-null   float64\n",
      " 6   Outlet_Identifier          8523 non-null   object \n",
      " 7   Outlet_Establishment_Year  8523 non-null   int64  \n",
      " 8   Outlet_Size                6113 non-null   object \n",
      " 9   Outlet_Location_Type       8523 non-null   object \n",
      " 10  Outlet_Type                8523 non-null   object \n",
      " 11  Item_Outlet_Sales          8523 non-null   float64\n",
      "dtypes: float64(4), int64(1), object(7)\n",
      "memory usage: 799.2+ KB\n"
     ]
    }
   ],
   "source": [
    "df = pd.read_csv('big_mart_sales.csv')\n",
    "\n",
    "df.info()"
   ]
  },
  {
   "cell_type": "code",
   "execution_count": 3,
   "metadata": {},
   "outputs": [
    {
     "data": {
      "text/plain": [
       "Item_Identifier                 0\n",
       "Item_Weight                  1463\n",
       "Item_Fat_Content                0\n",
       "Item_Visibility                 0\n",
       "Item_Type                       0\n",
       "Item_MRP                        0\n",
       "Outlet_Identifier               0\n",
       "Outlet_Establishment_Year       0\n",
       "Outlet_Size                  2410\n",
       "Outlet_Location_Type            0\n",
       "Outlet_Type                     0\n",
       "Item_Outlet_Sales               0\n",
       "dtype: int64"
      ]
     },
     "execution_count": 3,
     "metadata": {},
     "output_type": "execute_result"
    }
   ],
   "source": [
    "df.isna().sum()"
   ]
  },
  {
   "cell_type": "code",
   "execution_count": 4,
   "metadata": {},
   "outputs": [
    {
     "data": {
      "text/plain": [
       "(8523, 12)"
      ]
     },
     "execution_count": 4,
     "metadata": {},
     "output_type": "execute_result"
    }
   ],
   "source": [
    "df.shape"
   ]
  },
  {
   "cell_type": "code",
   "execution_count": 5,
   "metadata": {},
   "outputs": [
    {
     "data": {
      "text/html": [
       "<div>\n",
       "<style scoped>\n",
       "    .dataframe tbody tr th:only-of-type {\n",
       "        vertical-align: middle;\n",
       "    }\n",
       "\n",
       "    .dataframe tbody tr th {\n",
       "        vertical-align: top;\n",
       "    }\n",
       "\n",
       "    .dataframe thead th {\n",
       "        text-align: right;\n",
       "    }\n",
       "</style>\n",
       "<table border=\"1\" class=\"dataframe\">\n",
       "  <thead>\n",
       "    <tr style=\"text-align: right;\">\n",
       "      <th></th>\n",
       "      <th>Item_Identifier</th>\n",
       "      <th>Item_Weight</th>\n",
       "      <th>Item_Fat_Content</th>\n",
       "      <th>Item_Visibility</th>\n",
       "      <th>Item_Type</th>\n",
       "      <th>Item_MRP</th>\n",
       "      <th>Outlet_Identifier</th>\n",
       "      <th>Outlet_Establishment_Year</th>\n",
       "      <th>Outlet_Size</th>\n",
       "      <th>Outlet_Location_Type</th>\n",
       "      <th>Outlet_Type</th>\n",
       "      <th>Item_Outlet_Sales</th>\n",
       "    </tr>\n",
       "  </thead>\n",
       "  <tbody>\n",
       "    <tr>\n",
       "      <th>0</th>\n",
       "      <td>FDA15</td>\n",
       "      <td>9.30</td>\n",
       "      <td>Low Fat</td>\n",
       "      <td>0.016047</td>\n",
       "      <td>Dairy</td>\n",
       "      <td>249.8092</td>\n",
       "      <td>OUT049</td>\n",
       "      <td>1999</td>\n",
       "      <td>Medium</td>\n",
       "      <td>Tier 1</td>\n",
       "      <td>Supermarket Type1</td>\n",
       "      <td>3735.1380</td>\n",
       "    </tr>\n",
       "    <tr>\n",
       "      <th>1</th>\n",
       "      <td>DRC01</td>\n",
       "      <td>5.92</td>\n",
       "      <td>Regular</td>\n",
       "      <td>0.019278</td>\n",
       "      <td>Soft Drinks</td>\n",
       "      <td>48.2692</td>\n",
       "      <td>OUT018</td>\n",
       "      <td>2009</td>\n",
       "      <td>Medium</td>\n",
       "      <td>Tier 3</td>\n",
       "      <td>Supermarket Type2</td>\n",
       "      <td>443.4228</td>\n",
       "    </tr>\n",
       "    <tr>\n",
       "      <th>2</th>\n",
       "      <td>FDN15</td>\n",
       "      <td>17.50</td>\n",
       "      <td>Low Fat</td>\n",
       "      <td>0.016760</td>\n",
       "      <td>Meat</td>\n",
       "      <td>141.6180</td>\n",
       "      <td>OUT049</td>\n",
       "      <td>1999</td>\n",
       "      <td>Medium</td>\n",
       "      <td>Tier 1</td>\n",
       "      <td>Supermarket Type1</td>\n",
       "      <td>2097.2700</td>\n",
       "    </tr>\n",
       "    <tr>\n",
       "      <th>3</th>\n",
       "      <td>FDX07</td>\n",
       "      <td>19.20</td>\n",
       "      <td>Regular</td>\n",
       "      <td>0.000000</td>\n",
       "      <td>Fruits and Vegetables</td>\n",
       "      <td>182.0950</td>\n",
       "      <td>OUT010</td>\n",
       "      <td>1998</td>\n",
       "      <td>NaN</td>\n",
       "      <td>Tier 3</td>\n",
       "      <td>Grocery Store</td>\n",
       "      <td>732.3800</td>\n",
       "    </tr>\n",
       "    <tr>\n",
       "      <th>4</th>\n",
       "      <td>NCD19</td>\n",
       "      <td>8.93</td>\n",
       "      <td>Low Fat</td>\n",
       "      <td>0.000000</td>\n",
       "      <td>Household</td>\n",
       "      <td>53.8614</td>\n",
       "      <td>OUT013</td>\n",
       "      <td>1987</td>\n",
       "      <td>High</td>\n",
       "      <td>Tier 3</td>\n",
       "      <td>Supermarket Type1</td>\n",
       "      <td>994.7052</td>\n",
       "    </tr>\n",
       "  </tbody>\n",
       "</table>\n",
       "</div>"
      ],
      "text/plain": [
       "  Item_Identifier  Item_Weight Item_Fat_Content  Item_Visibility  \\\n",
       "0           FDA15         9.30          Low Fat         0.016047   \n",
       "1           DRC01         5.92          Regular         0.019278   \n",
       "2           FDN15        17.50          Low Fat         0.016760   \n",
       "3           FDX07        19.20          Regular         0.000000   \n",
       "4           NCD19         8.93          Low Fat         0.000000   \n",
       "\n",
       "               Item_Type  Item_MRP Outlet_Identifier  \\\n",
       "0                  Dairy  249.8092            OUT049   \n",
       "1            Soft Drinks   48.2692            OUT018   \n",
       "2                   Meat  141.6180            OUT049   \n",
       "3  Fruits and Vegetables  182.0950            OUT010   \n",
       "4              Household   53.8614            OUT013   \n",
       "\n",
       "   Outlet_Establishment_Year Outlet_Size Outlet_Location_Type  \\\n",
       "0                       1999      Medium               Tier 1   \n",
       "1                       2009      Medium               Tier 3   \n",
       "2                       1999      Medium               Tier 1   \n",
       "3                       1998         NaN               Tier 3   \n",
       "4                       1987        High               Tier 3   \n",
       "\n",
       "         Outlet_Type  Item_Outlet_Sales  \n",
       "0  Supermarket Type1          3735.1380  \n",
       "1  Supermarket Type2           443.4228  \n",
       "2  Supermarket Type1          2097.2700  \n",
       "3      Grocery Store           732.3800  \n",
       "4  Supermarket Type1           994.7052  "
      ]
     },
     "execution_count": 5,
     "metadata": {},
     "output_type": "execute_result"
    }
   ],
   "source": [
    "df.head()"
   ]
  },
  {
   "cell_type": "code",
   "execution_count": 6,
   "metadata": {},
   "outputs": [],
   "source": [
    "# make all lowercase\n",
    "df.columns = map(str.lower, df.columns)"
   ]
  },
  {
   "cell_type": "code",
   "execution_count": 7,
   "metadata": {},
   "outputs": [
    {
     "data": {
      "text/plain": [
       "item_identifier              1559\n",
       "item_weight                   415\n",
       "item_fat_content                5\n",
       "item_visibility              7880\n",
       "item_type                      16\n",
       "item_mrp                     5938\n",
       "outlet_identifier              10\n",
       "outlet_establishment_year       9\n",
       "outlet_size                     3\n",
       "outlet_location_type            3\n",
       "outlet_type                     4\n",
       "item_outlet_sales            3493\n",
       "dtype: int64"
      ]
     },
     "execution_count": 7,
     "metadata": {},
     "output_type": "execute_result"
    }
   ],
   "source": [
    "df.nunique()"
   ]
  },
  {
   "attachments": {},
   "cell_type": "markdown",
   "metadata": {},
   "source": [
    "## Data Cleaning"
   ]
  },
  {
   "attachments": {},
   "cell_type": "markdown",
   "metadata": {},
   "source": [
    "### Null Value Treatment"
   ]
  },
  {
   "cell_type": "code",
   "execution_count": 8,
   "metadata": {},
   "outputs": [
    {
     "data": {
      "text/plain": [
       "item_identifier                 0\n",
       "item_weight                  1463\n",
       "item_fat_content                0\n",
       "item_visibility                 0\n",
       "item_type                       0\n",
       "item_mrp                        0\n",
       "outlet_identifier               0\n",
       "outlet_establishment_year       0\n",
       "outlet_size                  2410\n",
       "outlet_location_type            0\n",
       "outlet_type                     0\n",
       "item_outlet_sales               0\n",
       "dtype: int64"
      ]
     },
     "execution_count": 8,
     "metadata": {},
     "output_type": "execute_result"
    }
   ],
   "source": [
    "# mencari null value\n",
    "df.isnull().sum()"
   ]
  },
  {
   "cell_type": "code",
   "execution_count": 9,
   "metadata": {},
   "outputs": [],
   "source": [
    "# isi null values dengan median\n",
    "df.item_weight=df['item_weight'].fillna(df['item_weight'].median())"
   ]
  },
  {
   "cell_type": "code",
   "execution_count": 10,
   "metadata": {},
   "outputs": [
    {
     "name": "stderr",
     "output_type": "stream",
     "text": [
      "c:\\Users\\ravin\\anaconda3\\lib\\site-packages\\seaborn\\distributions.py:2619: FutureWarning: `distplot` is a deprecated function and will be removed in a future version. Please adapt your code to use either `displot` (a figure-level function with similar flexibility) or `histplot` (an axes-level function for histograms).\n",
      "  warnings.warn(msg, FutureWarning)\n"
     ]
    },
    {
     "data": {
      "text/plain": [
       "<AxesSubplot:xlabel='item_weight', ylabel='Density'>"
      ]
     },
     "execution_count": 10,
     "metadata": {},
     "output_type": "execute_result"
    },
    {
     "data": {
      "image/png": "[encoded data removed]",
      "text/plain": [
       "<Figure size 640x480 with 1 Axes>"
      ]
     },
     "metadata": {},
     "output_type": "display_data"
    }
   ],
   "source": [
    "sns.distplot(df.item_weight)"
   ]
  },
  {
   "attachments": {},
   "cell_type": "markdown",
   "metadata": {},
   "source": [
    "Distribusi item weight pada kolom weight yang telah diisi nilai nullnya dengan median"
   ]
  },
  {
   "cell_type": "code",
   "execution_count": 11,
   "metadata": {},
   "outputs": [
    {
     "name": "stdout",
     "output_type": "stream",
     "text": [
      "12.6\n",
      "12.813419570574444\n",
      "12.6\n"
     ]
    }
   ],
   "source": [
    "print(df.item_weight.median())\n",
    "print(df.item_weight.mean())\n",
    "print(df.item_weight.mode()[0])\n"
   ]
  },
  {
   "cell_type": "code",
   "execution_count": 12,
   "metadata": {},
   "outputs": [
    {
     "data": {
      "text/plain": [
       "0"
      ]
     },
     "execution_count": 12,
     "metadata": {},
     "output_type": "execute_result"
    }
   ],
   "source": [
    "# cek value duplikat\n",
    "df.duplicated().sum()"
   ]
  },
  {
   "cell_type": "code",
   "execution_count": 13,
   "metadata": {},
   "outputs": [
    {
     "data": {
      "text/plain": [
       "item_identifier                 0\n",
       "item_weight                     0\n",
       "item_fat_content                0\n",
       "item_visibility                 0\n",
       "item_type                       0\n",
       "item_mrp                        0\n",
       "outlet_identifier               0\n",
       "outlet_establishment_year       0\n",
       "outlet_size                  2410\n",
       "outlet_location_type            0\n",
       "outlet_type                     0\n",
       "item_outlet_sales               0\n",
       "dtype: int64"
      ]
     },
     "execution_count": 13,
     "metadata": {},
     "output_type": "execute_result"
    }
   ],
   "source": [
    "df.isnull().sum()"
   ]
  },
  {
   "cell_type": "code",
   "execution_count": 14,
   "metadata": {},
   "outputs": [
    {
     "data": {
      "text/plain": [
       "item_identifier                 0\n",
       "item_weight                     0\n",
       "item_fat_content                0\n",
       "item_visibility                 0\n",
       "item_type                       0\n",
       "item_mrp                        0\n",
       "outlet_identifier               0\n",
       "outlet_establishment_year       0\n",
       "outlet_size                  2410\n",
       "outlet_location_type            0\n",
       "outlet_type                     0\n",
       "item_outlet_sales               0\n",
       "dtype: int64"
      ]
     },
     "execution_count": 14,
     "metadata": {},
     "output_type": "execute_result"
    }
   ],
   "source": [
    "df.isnull().sum()"
   ]
  },
  {
   "attachments": {},
   "cell_type": "markdown",
   "metadata": {},
   "source": [
    "### Manipulasi Tabel"
   ]
  },
  {
   "cell_type": "code",
   "execution_count": 15,
   "metadata": {},
   "outputs": [
    {
     "data": {
      "text/html": [
       "<div>\n",
       "<style scoped>\n",
       "    .dataframe tbody tr th:only-of-type {\n",
       "        vertical-align: middle;\n",
       "    }\n",
       "\n",
       "    .dataframe tbody tr th {\n",
       "        vertical-align: top;\n",
       "    }\n",
       "\n",
       "    .dataframe thead th {\n",
       "        text-align: right;\n",
       "    }\n",
       "</style>\n",
       "<table border=\"1\" class=\"dataframe\">\n",
       "  <thead>\n",
       "    <tr style=\"text-align: right;\">\n",
       "      <th></th>\n",
       "      <th>item_identifier</th>\n",
       "      <th>item_weight</th>\n",
       "      <th>item_fat_content</th>\n",
       "      <th>item_visibility</th>\n",
       "      <th>item_type</th>\n",
       "      <th>item_mrp</th>\n",
       "      <th>outlet_identifier</th>\n",
       "      <th>outlet_establishment_year</th>\n",
       "      <th>outlet_size</th>\n",
       "      <th>outlet_location_type</th>\n",
       "      <th>outlet_type</th>\n",
       "      <th>item_outlet_sales</th>\n",
       "    </tr>\n",
       "    <tr>\n",
       "      <th>index</th>\n",
       "      <th></th>\n",
       "      <th></th>\n",
       "      <th></th>\n",
       "      <th></th>\n",
       "      <th></th>\n",
       "      <th></th>\n",
       "      <th></th>\n",
       "      <th></th>\n",
       "      <th></th>\n",
       "      <th></th>\n",
       "      <th></th>\n",
       "      <th></th>\n",
       "    </tr>\n",
       "  </thead>\n",
       "  <tbody>\n",
       "    <tr>\n",
       "      <th>0</th>\n",
       "      <td>FDA15</td>\n",
       "      <td>9.300</td>\n",
       "      <td>Low Fat</td>\n",
       "      <td>0.016047</td>\n",
       "      <td>Dairy</td>\n",
       "      <td>249.8092</td>\n",
       "      <td>OUT049</td>\n",
       "      <td>1999</td>\n",
       "      <td>Medium</td>\n",
       "      <td>Tier 1</td>\n",
       "      <td>Supermarket Type1</td>\n",
       "      <td>3735.1380</td>\n",
       "    </tr>\n",
       "    <tr>\n",
       "      <th>1</th>\n",
       "      <td>DRC01</td>\n",
       "      <td>5.920</td>\n",
       "      <td>Regular</td>\n",
       "      <td>0.019278</td>\n",
       "      <td>Soft Drinks</td>\n",
       "      <td>48.2692</td>\n",
       "      <td>OUT018</td>\n",
       "      <td>2009</td>\n",
       "      <td>Medium</td>\n",
       "      <td>Tier 3</td>\n",
       "      <td>Supermarket Type2</td>\n",
       "      <td>443.4228</td>\n",
       "    </tr>\n",
       "    <tr>\n",
       "      <th>2</th>\n",
       "      <td>FDN15</td>\n",
       "      <td>17.500</td>\n",
       "      <td>Low Fat</td>\n",
       "      <td>0.016760</td>\n",
       "      <td>Meat</td>\n",
       "      <td>141.6180</td>\n",
       "      <td>OUT049</td>\n",
       "      <td>1999</td>\n",
       "      <td>Medium</td>\n",
       "      <td>Tier 1</td>\n",
       "      <td>Supermarket Type1</td>\n",
       "      <td>2097.2700</td>\n",
       "    </tr>\n",
       "    <tr>\n",
       "      <th>3</th>\n",
       "      <td>FDX07</td>\n",
       "      <td>19.200</td>\n",
       "      <td>Regular</td>\n",
       "      <td>0.000000</td>\n",
       "      <td>Fruits and Vegetables</td>\n",
       "      <td>182.0950</td>\n",
       "      <td>OUT010</td>\n",
       "      <td>1998</td>\n",
       "      <td>NaN</td>\n",
       "      <td>Tier 3</td>\n",
       "      <td>Grocery Store</td>\n",
       "      <td>732.3800</td>\n",
       "    </tr>\n",
       "    <tr>\n",
       "      <th>4</th>\n",
       "      <td>NCD19</td>\n",
       "      <td>8.930</td>\n",
       "      <td>Low Fat</td>\n",
       "      <td>0.000000</td>\n",
       "      <td>Household</td>\n",
       "      <td>53.8614</td>\n",
       "      <td>OUT013</td>\n",
       "      <td>1987</td>\n",
       "      <td>High</td>\n",
       "      <td>Tier 3</td>\n",
       "      <td>Supermarket Type1</td>\n",
       "      <td>994.7052</td>\n",
       "    </tr>\n",
       "    <tr>\n",
       "      <th>...</th>\n",
       "      <td>...</td>\n",
       "      <td>...</td>\n",
       "      <td>...</td>\n",
       "      <td>...</td>\n",
       "      <td>...</td>\n",
       "      <td>...</td>\n",
       "      <td>...</td>\n",
       "      <td>...</td>\n",
       "      <td>...</td>\n",
       "      <td>...</td>\n",
       "      <td>...</td>\n",
       "      <td>...</td>\n",
       "    </tr>\n",
       "    <tr>\n",
       "      <th>8518</th>\n",
       "      <td>FDF22</td>\n",
       "      <td>6.865</td>\n",
       "      <td>Low Fat</td>\n",
       "      <td>0.056783</td>\n",
       "      <td>Snack Foods</td>\n",
       "      <td>214.5218</td>\n",
       "      <td>OUT013</td>\n",
       "      <td>1987</td>\n",
       "      <td>High</td>\n",
       "      <td>Tier 3</td>\n",
       "      <td>Supermarket Type1</td>\n",
       "      <td>2778.3834</td>\n",
       "    </tr>\n",
       "    <tr>\n",
       "      <th>8519</th>\n",
       "      <td>FDS36</td>\n",
       "      <td>8.380</td>\n",
       "      <td>Regular</td>\n",
       "      <td>0.046982</td>\n",
       "      <td>Baking Goods</td>\n",
       "      <td>108.1570</td>\n",
       "      <td>OUT045</td>\n",
       "      <td>2002</td>\n",
       "      <td>NaN</td>\n",
       "      <td>Tier 2</td>\n",
       "      <td>Supermarket Type1</td>\n",
       "      <td>549.2850</td>\n",
       "    </tr>\n",
       "    <tr>\n",
       "      <th>8520</th>\n",
       "      <td>NCJ29</td>\n",
       "      <td>10.600</td>\n",
       "      <td>Low Fat</td>\n",
       "      <td>0.035186</td>\n",
       "      <td>Health and Hygiene</td>\n",
       "      <td>85.1224</td>\n",
       "      <td>OUT035</td>\n",
       "      <td>2004</td>\n",
       "      <td>Small</td>\n",
       "      <td>Tier 2</td>\n",
       "      <td>Supermarket Type1</td>\n",
       "      <td>1193.1136</td>\n",
       "    </tr>\n",
       "    <tr>\n",
       "      <th>8521</th>\n",
       "      <td>FDN46</td>\n",
       "      <td>7.210</td>\n",
       "      <td>Regular</td>\n",
       "      <td>0.145221</td>\n",
       "      <td>Snack Foods</td>\n",
       "      <td>103.1332</td>\n",
       "      <td>OUT018</td>\n",
       "      <td>2009</td>\n",
       "      <td>Medium</td>\n",
       "      <td>Tier 3</td>\n",
       "      <td>Supermarket Type2</td>\n",
       "      <td>1845.5976</td>\n",
       "    </tr>\n",
       "    <tr>\n",
       "      <th>8522</th>\n",
       "      <td>DRG01</td>\n",
       "      <td>14.800</td>\n",
       "      <td>Low Fat</td>\n",
       "      <td>0.044878</td>\n",
       "      <td>Soft Drinks</td>\n",
       "      <td>75.4670</td>\n",
       "      <td>OUT046</td>\n",
       "      <td>1997</td>\n",
       "      <td>Small</td>\n",
       "      <td>Tier 1</td>\n",
       "      <td>Supermarket Type1</td>\n",
       "      <td>765.6700</td>\n",
       "    </tr>\n",
       "  </tbody>\n",
       "</table>\n",
       "<p>8523 rows × 12 columns</p>\n",
       "</div>"
      ],
      "text/plain": [
       "      item_identifier  item_weight item_fat_content  item_visibility  \\\n",
       "index                                                                  \n",
       "0               FDA15        9.300          Low Fat         0.016047   \n",
       "1               DRC01        5.920          Regular         0.019278   \n",
       "2               FDN15       17.500          Low Fat         0.016760   \n",
       "3               FDX07       19.200          Regular         0.000000   \n",
       "4               NCD19        8.930          Low Fat         0.000000   \n",
       "...               ...          ...              ...              ...   \n",
       "8518            FDF22        6.865          Low Fat         0.056783   \n",
       "8519            FDS36        8.380          Regular         0.046982   \n",
       "8520            NCJ29       10.600          Low Fat         0.035186   \n",
       "8521            FDN46        7.210          Regular         0.145221   \n",
       "8522            DRG01       14.800          Low Fat         0.044878   \n",
       "\n",
       "                   item_type  item_mrp outlet_identifier  \\\n",
       "index                                                      \n",
       "0                      Dairy  249.8092            OUT049   \n",
       "1                Soft Drinks   48.2692            OUT018   \n",
       "2                       Meat  141.6180            OUT049   \n",
       "3      Fruits and Vegetables  182.0950            OUT010   \n",
       "4                  Household   53.8614            OUT013   \n",
       "...                      ...       ...               ...   \n",
       "8518             Snack Foods  214.5218            OUT013   \n",
       "8519            Baking Goods  108.1570            OUT045   \n",
       "8520      Health and Hygiene   85.1224            OUT035   \n",
       "8521             Snack Foods  103.1332            OUT018   \n",
       "8522             Soft Drinks   75.4670            OUT046   \n",
       "\n",
       "       outlet_establishment_year outlet_size outlet_location_type  \\\n",
       "index                                                               \n",
       "0                           1999      Medium               Tier 1   \n",
       "1                           2009      Medium               Tier 3   \n",
       "2                           1999      Medium               Tier 1   \n",
       "3                           1998         NaN               Tier 3   \n",
       "4                           1987        High               Tier 3   \n",
       "...                          ...         ...                  ...   \n",
       "8518                        1987        High               Tier 3   \n",
       "8519                        2002         NaN               Tier 2   \n",
       "8520                        2004       Small               Tier 2   \n",
       "8521                        2009      Medium               Tier 3   \n",
       "8522                        1997       Small               Tier 1   \n",
       "\n",
       "             outlet_type  item_outlet_sales  \n",
       "index                                        \n",
       "0      Supermarket Type1          3735.1380  \n",
       "1      Supermarket Type2           443.4228  \n",
       "2      Supermarket Type1          2097.2700  \n",
       "3          Grocery Store           732.3800  \n",
       "4      Supermarket Type1           994.7052  \n",
       "...                  ...                ...  \n",
       "8518   Supermarket Type1          2778.3834  \n",
       "8519   Supermarket Type1           549.2850  \n",
       "8520   Supermarket Type1          1193.1136  \n",
       "8521   Supermarket Type2          1845.5976  \n",
       "8522   Supermarket Type1           765.6700  \n",
       "\n",
       "[8523 rows x 12 columns]"
      ]
     },
     "execution_count": 15,
     "metadata": {},
     "output_type": "execute_result"
    }
   ],
   "source": [
    "# mengganti nama index ke 'index' agar dapat terbaca di LOOKER\n",
    "\n",
    "df.index.name = 'index'\n",
    "\n",
    "df"
   ]
  },
  {
   "cell_type": "code",
   "execution_count": 16,
   "metadata": {},
   "outputs": [
    {
     "name": "stdout",
     "output_type": "stream",
     "text": [
      "<class 'pandas.core.frame.DataFrame'>\n",
      "RangeIndex: 8523 entries, 0 to 8522\n",
      "Data columns (total 12 columns):\n",
      " #   Column                     Non-Null Count  Dtype  \n",
      "---  ------                     --------------  -----  \n",
      " 0   item_identifier            8523 non-null   object \n",
      " 1   item_weight                8523 non-null   float64\n",
      " 2   item_fat_content           8523 non-null   object \n",
      " 3   item_visibility            8523 non-null   float64\n",
      " 4   item_type                  8523 non-null   object \n",
      " 5   item_mrp                   8523 non-null   float64\n",
      " 6   outlet_identifier          8523 non-null   object \n",
      " 7   outlet_establishment_year  8523 non-null   int64  \n",
      " 8   outlet_size                6113 non-null   object \n",
      " 9   outlet_location_type       8523 non-null   object \n",
      " 10  outlet_type                8523 non-null   object \n",
      " 11  item_outlet_sales          8523 non-null   float64\n",
      "dtypes: float64(4), int64(1), object(7)\n",
      "memory usage: 799.2+ KB\n"
     ]
    }
   ],
   "source": [
    "df.info()"
   ]
  },
  {
   "cell_type": "code",
   "execution_count": 17,
   "metadata": {},
   "outputs": [
    {
     "data": {
      "text/plain": [
       "item_identifier                 0\n",
       "item_weight                     0\n",
       "item_fat_content                0\n",
       "item_visibility                 0\n",
       "item_type                       0\n",
       "item_mrp                        0\n",
       "outlet_identifier               0\n",
       "outlet_establishment_year       0\n",
       "outlet_size                  2410\n",
       "outlet_location_type            0\n",
       "outlet_type                     0\n",
       "item_outlet_sales               0\n",
       "dtype: int64"
      ]
     },
     "execution_count": 17,
     "metadata": {},
     "output_type": "execute_result"
    }
   ],
   "source": [
    "df.isnull().sum()"
   ]
  },
  {
   "cell_type": "code",
   "execution_count": 18,
   "metadata": {},
   "outputs": [],
   "source": [
    "# ganti nama outet ke outlet size num\n",
    "\n",
    "df.rename(columns = {'outlet_size':'outlet_size_num'}, inplace = True)"
   ]
  },
  {
   "cell_type": "code",
   "execution_count": 19,
   "metadata": {},
   "outputs": [],
   "source": [
    "# Merubah nilai str pada kolom outtlet size num dari obejct ke numerical agar bisa dicari mode nya, lalu diisini null valuenya \n",
    "\n",
    "df['outlet_size_num'].replace({'Small':1,'Medium':2,\"High\":3}, inplace=True)"
   ]
  },
  {
   "cell_type": "code",
   "execution_count": 20,
   "metadata": {},
   "outputs": [],
   "source": [
    "# mengisi jumlah outlet size dengan nilai mode\n",
    "\n",
    "df.outlet_size_num.fillna(df.outlet_size_num.mode()[0], inplace=True)"
   ]
  },
  {
   "cell_type": "code",
   "execution_count": 21,
   "metadata": {},
   "outputs": [],
   "source": [
    "# merubah kolom menjadi int\n",
    "df.outlet_size_num = df.outlet_size_num.astype(int)"
   ]
  },
  {
   "cell_type": "code",
   "execution_count": 22,
   "metadata": {},
   "outputs": [],
   "source": [
    "# plooting display style di notebook akan setting default\n",
    "plt.style.use('default')\n"
   ]
  },
  {
   "attachments": {},
   "cell_type": "markdown",
   "metadata": {},
   "source": [
    "`CHECKING NULL VALUES AGAIN`"
   ]
  },
  {
   "cell_type": "code",
   "execution_count": 23,
   "metadata": {},
   "outputs": [
    {
     "data": {
      "text/plain": [
       "item_identifier              0\n",
       "item_weight                  0\n",
       "item_fat_content             0\n",
       "item_visibility              0\n",
       "item_type                    0\n",
       "item_mrp                     0\n",
       "outlet_identifier            0\n",
       "outlet_establishment_year    0\n",
       "outlet_size_num              0\n",
       "outlet_location_type         0\n",
       "outlet_type                  0\n",
       "item_outlet_sales            0\n",
       "dtype: int64"
      ]
     },
     "execution_count": 23,
     "metadata": {},
     "output_type": "execute_result"
    }
   ],
   "source": [
    "# NULL VALUES \n",
    "\n",
    "df.isnull().sum()"
   ]
  },
  {
   "attachments": {},
   "cell_type": "markdown",
   "metadata": {},
   "source": [
    "### Manipulasi kolom\n"
   ]
  },
  {
   "cell_type": "code",
   "execution_count": 24,
   "metadata": {},
   "outputs": [
    {
     "data": {
      "text/html": [
       "<div>\n",
       "<style scoped>\n",
       "    .dataframe tbody tr th:only-of-type {\n",
       "        vertical-align: middle;\n",
       "    }\n",
       "\n",
       "    .dataframe tbody tr th {\n",
       "        vertical-align: top;\n",
       "    }\n",
       "\n",
       "    .dataframe thead th {\n",
       "        text-align: right;\n",
       "    }\n",
       "</style>\n",
       "<table border=\"1\" class=\"dataframe\">\n",
       "  <thead>\n",
       "    <tr style=\"text-align: right;\">\n",
       "      <th></th>\n",
       "      <th>item_identifier</th>\n",
       "      <th>item_weight</th>\n",
       "      <th>item_fat_content</th>\n",
       "      <th>item_visibility</th>\n",
       "      <th>item_type</th>\n",
       "      <th>item_mrp</th>\n",
       "      <th>outlet_identifier</th>\n",
       "      <th>outlet_establishment_year</th>\n",
       "      <th>outlet_size_num</th>\n",
       "      <th>outlet_location_type</th>\n",
       "      <th>outlet_type</th>\n",
       "      <th>item_outlet_sales</th>\n",
       "    </tr>\n",
       "    <tr>\n",
       "      <th>index</th>\n",
       "      <th></th>\n",
       "      <th></th>\n",
       "      <th></th>\n",
       "      <th></th>\n",
       "      <th></th>\n",
       "      <th></th>\n",
       "      <th></th>\n",
       "      <th></th>\n",
       "      <th></th>\n",
       "      <th></th>\n",
       "      <th></th>\n",
       "      <th></th>\n",
       "    </tr>\n",
       "  </thead>\n",
       "  <tbody>\n",
       "    <tr>\n",
       "      <th>0</th>\n",
       "      <td>FDA15</td>\n",
       "      <td>9.30</td>\n",
       "      <td>Low Fat</td>\n",
       "      <td>0.016047</td>\n",
       "      <td>Dairy</td>\n",
       "      <td>249.8092</td>\n",
       "      <td>OUT049</td>\n",
       "      <td>1999</td>\n",
       "      <td>2</td>\n",
       "      <td>Tier 1</td>\n",
       "      <td>Supermarket Type1</td>\n",
       "      <td>3735.1380</td>\n",
       "    </tr>\n",
       "    <tr>\n",
       "      <th>1</th>\n",
       "      <td>DRC01</td>\n",
       "      <td>5.92</td>\n",
       "      <td>Regular</td>\n",
       "      <td>0.019278</td>\n",
       "      <td>Soft Drinks</td>\n",
       "      <td>48.2692</td>\n",
       "      <td>OUT018</td>\n",
       "      <td>2009</td>\n",
       "      <td>2</td>\n",
       "      <td>Tier 3</td>\n",
       "      <td>Supermarket Type2</td>\n",
       "      <td>443.4228</td>\n",
       "    </tr>\n",
       "    <tr>\n",
       "      <th>2</th>\n",
       "      <td>FDN15</td>\n",
       "      <td>17.50</td>\n",
       "      <td>Low Fat</td>\n",
       "      <td>0.016760</td>\n",
       "      <td>Meat</td>\n",
       "      <td>141.6180</td>\n",
       "      <td>OUT049</td>\n",
       "      <td>1999</td>\n",
       "      <td>2</td>\n",
       "      <td>Tier 1</td>\n",
       "      <td>Supermarket Type1</td>\n",
       "      <td>2097.2700</td>\n",
       "    </tr>\n",
       "  </tbody>\n",
       "</table>\n",
       "</div>"
      ],
      "text/plain": [
       "      item_identifier  item_weight item_fat_content  item_visibility  \\\n",
       "index                                                                  \n",
       "0               FDA15         9.30          Low Fat         0.016047   \n",
       "1               DRC01         5.92          Regular         0.019278   \n",
       "2               FDN15        17.50          Low Fat         0.016760   \n",
       "\n",
       "         item_type  item_mrp outlet_identifier  outlet_establishment_year  \\\n",
       "index                                                                       \n",
       "0            Dairy  249.8092            OUT049                       1999   \n",
       "1      Soft Drinks   48.2692            OUT018                       2009   \n",
       "2             Meat  141.6180            OUT049                       1999   \n",
       "\n",
       "       outlet_size_num outlet_location_type        outlet_type  \\\n",
       "index                                                            \n",
       "0                    2               Tier 1  Supermarket Type1   \n",
       "1                    2               Tier 3  Supermarket Type2   \n",
       "2                    2               Tier 1  Supermarket Type1   \n",
       "\n",
       "       item_outlet_sales  \n",
       "index                     \n",
       "0              3735.1380  \n",
       "1               443.4228  \n",
       "2              2097.2700  "
      ]
     },
     "execution_count": 24,
     "metadata": {},
     "output_type": "execute_result"
    }
   ],
   "source": [
    "df.head(3)"
   ]
  },
  {
   "cell_type": "code",
   "execution_count": 25,
   "metadata": {},
   "outputs": [],
   "source": [
    "# pembuatan kolom item total revenue\n",
    "outlet_item_revenue = []\n",
    "for i in df.index:\n",
    "    outlet_item_revenue.append(df.item_mrp[i] * df.item_outlet_sales[i])\n"
   ]
  },
  {
   "cell_type": "code",
   "execution_count": 26,
   "metadata": {},
   "outputs": [],
   "source": [
    "\n",
    "outlet_item_revenue = [round(item, 2) for item in outlet_item_revenue]"
   ]
  },
  {
   "cell_type": "code",
   "execution_count": 27,
   "metadata": {},
   "outputs": [],
   "source": [
    "df = df.assign(outlet_item_revenue=outlet_item_revenue)"
   ]
  },
  {
   "cell_type": "code",
   "execution_count": 28,
   "metadata": {},
   "outputs": [
    {
     "data": {
      "text/plain": [
       "<AxesSubplot:>"
      ]
     },
     "execution_count": 28,
     "metadata": {},
     "output_type": "execute_result"
    },
    {
     "data": {
      "image/png": "[encoded data removed]",
      "text/plain": [
       "<Figure size 500x300 with 1 Axes>"
      ]
     },
     "metadata": {},
     "output_type": "display_data"
    }
   ],
   "source": [
    "df.outlet_size_num.hist(figsize=(5,3))"
   ]
  },
  {
   "cell_type": "code",
   "execution_count": 29,
   "metadata": {},
   "outputs": [],
   "source": [
    "# membuat column baru untuk klasifikasi outlet size dengan string data type ( Medium, Small, High)\n",
    "\n",
    "df['outlet_size_str'] = df['outlet_size_num']\n",
    "\n",
    "df.outlet_size_str.replace({1:'small',2:'medium',3:\"high\"}, inplace=True)"
   ]
  },
  {
   "cell_type": "code",
   "execution_count": 30,
   "metadata": {},
   "outputs": [],
   "source": [
    "# re-arrange kolom agar lebih mudah dipahami\n",
    "\n",
    "df = df[['item_identifier', 'item_weight','item_type' ,'item_fat_content', 'item_mrp','item_visibility', 'outlet_identifier','outlet_establishment_year','outlet_size_str','outlet_size_num','outlet_location_type','outlet_type','item_outlet_sales','outlet_item_revenue']]"
   ]
  },
  {
   "cell_type": "code",
   "execution_count": 31,
   "metadata": {},
   "outputs": [
    {
     "data": {
      "text/html": [
       "<div>\n",
       "<style scoped>\n",
       "    .dataframe tbody tr th:only-of-type {\n",
       "        vertical-align: middle;\n",
       "    }\n",
       "\n",
       "    .dataframe tbody tr th {\n",
       "        vertical-align: top;\n",
       "    }\n",
       "\n",
       "    .dataframe thead th {\n",
       "        text-align: right;\n",
       "    }\n",
       "</style>\n",
       "<table border=\"1\" class=\"dataframe\">\n",
       "  <thead>\n",
       "    <tr style=\"text-align: right;\">\n",
       "      <th></th>\n",
       "      <th>item_identifier</th>\n",
       "      <th>item_weight</th>\n",
       "      <th>item_type</th>\n",
       "      <th>item_fat_content</th>\n",
       "      <th>item_mrp</th>\n",
       "      <th>item_visibility</th>\n",
       "      <th>outlet_identifier</th>\n",
       "      <th>outlet_establishment_year</th>\n",
       "      <th>outlet_size_str</th>\n",
       "      <th>outlet_size_num</th>\n",
       "      <th>outlet_location_type</th>\n",
       "      <th>outlet_type</th>\n",
       "      <th>item_outlet_sales</th>\n",
       "      <th>outlet_item_revenue</th>\n",
       "    </tr>\n",
       "    <tr>\n",
       "      <th>index</th>\n",
       "      <th></th>\n",
       "      <th></th>\n",
       "      <th></th>\n",
       "      <th></th>\n",
       "      <th></th>\n",
       "      <th></th>\n",
       "      <th></th>\n",
       "      <th></th>\n",
       "      <th></th>\n",
       "      <th></th>\n",
       "      <th></th>\n",
       "      <th></th>\n",
       "      <th></th>\n",
       "      <th></th>\n",
       "    </tr>\n",
       "  </thead>\n",
       "  <tbody>\n",
       "    <tr>\n",
       "      <th>0</th>\n",
       "      <td>FDA15</td>\n",
       "      <td>9.30</td>\n",
       "      <td>Dairy</td>\n",
       "      <td>Low Fat</td>\n",
       "      <td>249.8092</td>\n",
       "      <td>0.016047</td>\n",
       "      <td>OUT049</td>\n",
       "      <td>1999</td>\n",
       "      <td>medium</td>\n",
       "      <td>2</td>\n",
       "      <td>Tier 1</td>\n",
       "      <td>Supermarket Type1</td>\n",
       "      <td>3735.1380</td>\n",
       "      <td>933071.84</td>\n",
       "    </tr>\n",
       "    <tr>\n",
       "      <th>1</th>\n",
       "      <td>DRC01</td>\n",
       "      <td>5.92</td>\n",
       "      <td>Soft Drinks</td>\n",
       "      <td>Regular</td>\n",
       "      <td>48.2692</td>\n",
       "      <td>0.019278</td>\n",
       "      <td>OUT018</td>\n",
       "      <td>2009</td>\n",
       "      <td>medium</td>\n",
       "      <td>2</td>\n",
       "      <td>Tier 3</td>\n",
       "      <td>Supermarket Type2</td>\n",
       "      <td>443.4228</td>\n",
       "      <td>21403.66</td>\n",
       "    </tr>\n",
       "    <tr>\n",
       "      <th>2</th>\n",
       "      <td>FDN15</td>\n",
       "      <td>17.50</td>\n",
       "      <td>Meat</td>\n",
       "      <td>Low Fat</td>\n",
       "      <td>141.6180</td>\n",
       "      <td>0.016760</td>\n",
       "      <td>OUT049</td>\n",
       "      <td>1999</td>\n",
       "      <td>medium</td>\n",
       "      <td>2</td>\n",
       "      <td>Tier 1</td>\n",
       "      <td>Supermarket Type1</td>\n",
       "      <td>2097.2700</td>\n",
       "      <td>297011.18</td>\n",
       "    </tr>\n",
       "  </tbody>\n",
       "</table>\n",
       "</div>"
      ],
      "text/plain": [
       "      item_identifier  item_weight    item_type item_fat_content  item_mrp  \\\n",
       "index                                                                        \n",
       "0               FDA15         9.30        Dairy          Low Fat  249.8092   \n",
       "1               DRC01         5.92  Soft Drinks          Regular   48.2692   \n",
       "2               FDN15        17.50         Meat          Low Fat  141.6180   \n",
       "\n",
       "       item_visibility outlet_identifier  outlet_establishment_year  \\\n",
       "index                                                                 \n",
       "0             0.016047            OUT049                       1999   \n",
       "1             0.019278            OUT018                       2009   \n",
       "2             0.016760            OUT049                       1999   \n",
       "\n",
       "      outlet_size_str  outlet_size_num outlet_location_type  \\\n",
       "index                                                         \n",
       "0              medium                2               Tier 1   \n",
       "1              medium                2               Tier 3   \n",
       "2              medium                2               Tier 1   \n",
       "\n",
       "             outlet_type  item_outlet_sales  outlet_item_revenue  \n",
       "index                                                             \n",
       "0      Supermarket Type1          3735.1380            933071.84  \n",
       "1      Supermarket Type2           443.4228             21403.66  \n",
       "2      Supermarket Type1          2097.2700            297011.18  "
      ]
     },
     "execution_count": 31,
     "metadata": {},
     "output_type": "execute_result"
    }
   ],
   "source": [
    "df.head(3)"
   ]
  },
  {
   "attachments": {},
   "cell_type": "markdown",
   "metadata": {},
   "source": [
    "### Outlier Argumen"
   ]
  },
  {
   "cell_type": "code",
   "execution_count": 32,
   "metadata": {},
   "outputs": [
    {
     "data": {
      "text/plain": [
       "<AxesSubplot:>"
      ]
     },
     "execution_count": 32,
     "metadata": {},
     "output_type": "execute_result"
    },
    {
     "data": {
      "image/png": "[encoded data removed]",
      "text/plain": [
       "<Figure size 640x480 with 1 Axes>"
      ]
     },
     "metadata": {},
     "output_type": "display_data"
    }
   ],
   "source": [
    "# plot box dari item sales\n",
    "\n",
    "df.item_outlet_sales.plot(kind='box')"
   ]
  },
  {
   "attachments": {},
   "cell_type": "markdown",
   "metadata": {},
   "source": [
    "**Insight**\n",
    "\n",
    "Menurut boxplot memang terlihat outlier, namun outlier memang adalah konsep yang subjektif (source : https://en.wikipedia.org/wiki/Outlier#:~:text=There%20is%20no%20rigid%20mathematical,is%20ultimately%20a%20subjective%20exercise.).\n",
    "\n",
    "Dan kali ini penulis akan membiarkan outlier, dikarenakan subjeck dari outlier ini berada di kolom total penjualan.\n",
    "\n",
    "Di dalam situasi supermarket, banyak sekali bnarang barang yang memang dibeli dalam jumlah yang banyak dan berkali kali, dan hal ini bisa mengakibatkan adanya outlier yang muncul pada boxplot."
   ]
  },
  {
   "attachments": {},
   "cell_type": "markdown",
   "metadata": {},
   "source": [
    "## Data Explorasi"
   ]
  },
  {
   "cell_type": "code",
   "execution_count": 33,
   "metadata": {},
   "outputs": [
    {
     "data": {
      "text/plain": [
       "16"
      ]
     },
     "execution_count": 33,
     "metadata": {},
     "output_type": "execute_result"
    }
   ],
   "source": [
    "# jenis item type unique yang dijual\n",
    "len(df.item_type.unique())"
   ]
  },
  {
   "cell_type": "code",
   "execution_count": 34,
   "metadata": {},
   "outputs": [
    {
     "data": {
      "text/plain": [
       "array([[<AxesSubplot:title={'center':'item_weight'}>,\n",
       "        <AxesSubplot:title={'center':'item_mrp'}>,\n",
       "        <AxesSubplot:title={'center':'item_visibility'}>],\n",
       "       [<AxesSubplot:title={'center':'outlet_establishment_year'}>,\n",
       "        <AxesSubplot:title={'center':'outlet_size_num'}>,\n",
       "        <AxesSubplot:title={'center':'item_outlet_sales'}>],\n",
       "       [<AxesSubplot:title={'center':'outlet_item_revenue'}>,\n",
       "        <AxesSubplot:>, <AxesSubplot:>]], dtype=object)"
      ]
     },
     "execution_count": 34,
     "metadata": {},
     "output_type": "execute_result"
    },
    {
     "data": {
      "image/png": "[encoded data removed]",
      "text/plain": [
       "<Figure size 1400x1000 with 9 Axes>"
      ]
     },
     "metadata": {},
     "output_type": "display_data"
    }
   ],
   "source": [
    "# membuat visualisasi data secara general berdasarkan count data\n",
    "\n",
    "df.hist(figsize=(14,10), bins = 30)"
   ]
  },
  {
   "attachments": {},
   "cell_type": "markdown",
   "metadata": {},
   "source": [
    "**insight**\n",
    "\n",
    "- dari gambar diatas dapat dilihat bentuk bentuk distribusi sekilas untuk semua kolom dalam dataframe. Dari visualisasi sederhana ini penulis bisa mendapatkan sedikit bayangan tentang overview data.\n"
   ]
  },
  {
   "cell_type": "code",
   "execution_count": 35,
   "metadata": {},
   "outputs": [
    {
     "data": {
      "text/plain": [
       "array(['Supermarket Type1', 'Supermarket Type2', 'Grocery Store',\n",
       "       'Supermarket Type3'], dtype=object)"
      ]
     },
     "execution_count": 35,
     "metadata": {},
     "output_type": "execute_result"
    }
   ],
   "source": [
    "df.outlet_type.unique()"
   ]
  },
  {
   "cell_type": "code",
   "execution_count": 36,
   "metadata": {},
   "outputs": [
    {
     "name": "stdout",
     "output_type": "stream",
     "text": [
      "<class 'pandas.core.frame.DataFrame'>\n",
      "RangeIndex: 8523 entries, 0 to 8522\n",
      "Data columns (total 14 columns):\n",
      " #   Column                     Non-Null Count  Dtype  \n",
      "---  ------                     --------------  -----  \n",
      " 0   item_identifier            8523 non-null   object \n",
      " 1   item_weight                8523 non-null   float64\n",
      " 2   item_type                  8523 non-null   object \n",
      " 3   item_fat_content           8523 non-null   object \n",
      " 4   item_mrp                   8523 non-null   float64\n",
      " 5   item_visibility            8523 non-null   float64\n",
      " 6   outlet_identifier          8523 non-null   object \n",
      " 7   outlet_establishment_year  8523 non-null   int64  \n",
      " 8   outlet_size_str            8523 non-null   object \n",
      " 9   outlet_size_num            8523 non-null   int32  \n",
      " 10  outlet_location_type       8523 non-null   object \n",
      " 11  outlet_type                8523 non-null   object \n",
      " 12  item_outlet_sales          8523 non-null   float64\n",
      " 13  outlet_item_revenue        8523 non-null   float64\n",
      "dtypes: float64(5), int32(1), int64(1), object(7)\n",
      "memory usage: 899.0+ KB\n"
     ]
    }
   ],
   "source": [
    "df.info()"
   ]
  },
  {
   "cell_type": "code",
   "execution_count": 37,
   "metadata": {},
   "outputs": [
    {
     "data": {
      "text/html": [
       "<div>\n",
       "<style scoped>\n",
       "    .dataframe tbody tr th:only-of-type {\n",
       "        vertical-align: middle;\n",
       "    }\n",
       "\n",
       "    .dataframe tbody tr th {\n",
       "        vertical-align: top;\n",
       "    }\n",
       "\n",
       "    .dataframe thead th {\n",
       "        text-align: right;\n",
       "    }\n",
       "</style>\n",
       "<table border=\"1\" class=\"dataframe\">\n",
       "  <thead>\n",
       "    <tr style=\"text-align: right;\">\n",
       "      <th></th>\n",
       "      <th>item_identifier</th>\n",
       "      <th>item_weight</th>\n",
       "      <th>item_type</th>\n",
       "      <th>item_fat_content</th>\n",
       "      <th>item_mrp</th>\n",
       "      <th>item_visibility</th>\n",
       "      <th>outlet_identifier</th>\n",
       "      <th>outlet_establishment_year</th>\n",
       "      <th>outlet_size_str</th>\n",
       "      <th>outlet_size_num</th>\n",
       "      <th>outlet_location_type</th>\n",
       "      <th>outlet_type</th>\n",
       "      <th>item_outlet_sales</th>\n",
       "      <th>outlet_item_revenue</th>\n",
       "    </tr>\n",
       "    <tr>\n",
       "      <th>index</th>\n",
       "      <th></th>\n",
       "      <th></th>\n",
       "      <th></th>\n",
       "      <th></th>\n",
       "      <th></th>\n",
       "      <th></th>\n",
       "      <th></th>\n",
       "      <th></th>\n",
       "      <th></th>\n",
       "      <th></th>\n",
       "      <th></th>\n",
       "      <th></th>\n",
       "      <th></th>\n",
       "      <th></th>\n",
       "    </tr>\n",
       "  </thead>\n",
       "  <tbody>\n",
       "    <tr>\n",
       "      <th>0</th>\n",
       "      <td>FDA15</td>\n",
       "      <td>9.30</td>\n",
       "      <td>Dairy</td>\n",
       "      <td>Low Fat</td>\n",
       "      <td>249.8092</td>\n",
       "      <td>0.016047</td>\n",
       "      <td>OUT049</td>\n",
       "      <td>1999</td>\n",
       "      <td>medium</td>\n",
       "      <td>2</td>\n",
       "      <td>Tier 1</td>\n",
       "      <td>Supermarket Type1</td>\n",
       "      <td>3735.1380</td>\n",
       "      <td>933071.84</td>\n",
       "    </tr>\n",
       "    <tr>\n",
       "      <th>1</th>\n",
       "      <td>DRC01</td>\n",
       "      <td>5.92</td>\n",
       "      <td>Soft Drinks</td>\n",
       "      <td>Regular</td>\n",
       "      <td>48.2692</td>\n",
       "      <td>0.019278</td>\n",
       "      <td>OUT018</td>\n",
       "      <td>2009</td>\n",
       "      <td>medium</td>\n",
       "      <td>2</td>\n",
       "      <td>Tier 3</td>\n",
       "      <td>Supermarket Type2</td>\n",
       "      <td>443.4228</td>\n",
       "      <td>21403.66</td>\n",
       "    </tr>\n",
       "    <tr>\n",
       "      <th>2</th>\n",
       "      <td>FDN15</td>\n",
       "      <td>17.50</td>\n",
       "      <td>Meat</td>\n",
       "      <td>Low Fat</td>\n",
       "      <td>141.6180</td>\n",
       "      <td>0.016760</td>\n",
       "      <td>OUT049</td>\n",
       "      <td>1999</td>\n",
       "      <td>medium</td>\n",
       "      <td>2</td>\n",
       "      <td>Tier 1</td>\n",
       "      <td>Supermarket Type1</td>\n",
       "      <td>2097.2700</td>\n",
       "      <td>297011.18</td>\n",
       "    </tr>\n",
       "  </tbody>\n",
       "</table>\n",
       "</div>"
      ],
      "text/plain": [
       "      item_identifier  item_weight    item_type item_fat_content  item_mrp  \\\n",
       "index                                                                        \n",
       "0               FDA15         9.30        Dairy          Low Fat  249.8092   \n",
       "1               DRC01         5.92  Soft Drinks          Regular   48.2692   \n",
       "2               FDN15        17.50         Meat          Low Fat  141.6180   \n",
       "\n",
       "       item_visibility outlet_identifier  outlet_establishment_year  \\\n",
       "index                                                                 \n",
       "0             0.016047            OUT049                       1999   \n",
       "1             0.019278            OUT018                       2009   \n",
       "2             0.016760            OUT049                       1999   \n",
       "\n",
       "      outlet_size_str  outlet_size_num outlet_location_type  \\\n",
       "index                                                         \n",
       "0              medium                2               Tier 1   \n",
       "1              medium                2               Tier 3   \n",
       "2              medium                2               Tier 1   \n",
       "\n",
       "             outlet_type  item_outlet_sales  outlet_item_revenue  \n",
       "index                                                             \n",
       "0      Supermarket Type1          3735.1380            933071.84  \n",
       "1      Supermarket Type2           443.4228             21403.66  \n",
       "2      Supermarket Type1          2097.2700            297011.18  "
      ]
     },
     "execution_count": 37,
     "metadata": {},
     "output_type": "execute_result"
    }
   ],
   "source": [
    "df.head(3)"
   ]
  },
  {
   "cell_type": "code",
   "execution_count": 38,
   "metadata": {},
   "outputs": [
    {
     "data": {
      "text/html": [
       "<div>\n",
       "<style scoped>\n",
       "    .dataframe tbody tr th:only-of-type {\n",
       "        vertical-align: middle;\n",
       "    }\n",
       "\n",
       "    .dataframe tbody tr th {\n",
       "        vertical-align: top;\n",
       "    }\n",
       "\n",
       "    .dataframe thead th {\n",
       "        text-align: right;\n",
       "    }\n",
       "</style>\n",
       "<table border=\"1\" class=\"dataframe\">\n",
       "  <thead>\n",
       "    <tr style=\"text-align: right;\">\n",
       "      <th></th>\n",
       "      <th>item_identifier</th>\n",
       "      <th>item_weight</th>\n",
       "      <th>item_type</th>\n",
       "      <th>item_fat_content</th>\n",
       "      <th>item_mrp</th>\n",
       "      <th>item_visibility</th>\n",
       "      <th>outlet_identifier</th>\n",
       "      <th>outlet_establishment_year</th>\n",
       "      <th>outlet_size_str</th>\n",
       "      <th>outlet_size_num</th>\n",
       "      <th>outlet_location_type</th>\n",
       "      <th>outlet_type</th>\n",
       "      <th>item_outlet_sales</th>\n",
       "      <th>outlet_item_revenue</th>\n",
       "    </tr>\n",
       "    <tr>\n",
       "      <th>index</th>\n",
       "      <th></th>\n",
       "      <th></th>\n",
       "      <th></th>\n",
       "      <th></th>\n",
       "      <th></th>\n",
       "      <th></th>\n",
       "      <th></th>\n",
       "      <th></th>\n",
       "      <th></th>\n",
       "      <th></th>\n",
       "      <th></th>\n",
       "      <th></th>\n",
       "      <th></th>\n",
       "      <th></th>\n",
       "    </tr>\n",
       "  </thead>\n",
       "  <tbody>\n",
       "    <tr>\n",
       "      <th>8520</th>\n",
       "      <td>NCJ29</td>\n",
       "      <td>10.60</td>\n",
       "      <td>Health and Hygiene</td>\n",
       "      <td>Low Fat</td>\n",
       "      <td>85.1224</td>\n",
       "      <td>0.035186</td>\n",
       "      <td>OUT035</td>\n",
       "      <td>2004</td>\n",
       "      <td>small</td>\n",
       "      <td>1</td>\n",
       "      <td>Tier 2</td>\n",
       "      <td>Supermarket Type1</td>\n",
       "      <td>1193.1136</td>\n",
       "      <td>101560.69</td>\n",
       "    </tr>\n",
       "    <tr>\n",
       "      <th>8521</th>\n",
       "      <td>FDN46</td>\n",
       "      <td>7.21</td>\n",
       "      <td>Snack Foods</td>\n",
       "      <td>Regular</td>\n",
       "      <td>103.1332</td>\n",
       "      <td>0.145221</td>\n",
       "      <td>OUT018</td>\n",
       "      <td>2009</td>\n",
       "      <td>medium</td>\n",
       "      <td>2</td>\n",
       "      <td>Tier 3</td>\n",
       "      <td>Supermarket Type2</td>\n",
       "      <td>1845.5976</td>\n",
       "      <td>190342.39</td>\n",
       "    </tr>\n",
       "    <tr>\n",
       "      <th>8522</th>\n",
       "      <td>DRG01</td>\n",
       "      <td>14.80</td>\n",
       "      <td>Soft Drinks</td>\n",
       "      <td>Low Fat</td>\n",
       "      <td>75.4670</td>\n",
       "      <td>0.044878</td>\n",
       "      <td>OUT046</td>\n",
       "      <td>1997</td>\n",
       "      <td>small</td>\n",
       "      <td>1</td>\n",
       "      <td>Tier 1</td>\n",
       "      <td>Supermarket Type1</td>\n",
       "      <td>765.6700</td>\n",
       "      <td>57782.82</td>\n",
       "    </tr>\n",
       "  </tbody>\n",
       "</table>\n",
       "</div>"
      ],
      "text/plain": [
       "      item_identifier  item_weight           item_type item_fat_content  \\\n",
       "index                                                                     \n",
       "8520            NCJ29        10.60  Health and Hygiene          Low Fat   \n",
       "8521            FDN46         7.21         Snack Foods          Regular   \n",
       "8522            DRG01        14.80         Soft Drinks          Low Fat   \n",
       "\n",
       "       item_mrp  item_visibility outlet_identifier  outlet_establishment_year  \\\n",
       "index                                                                           \n",
       "8520    85.1224         0.035186            OUT035                       2004   \n",
       "8521   103.1332         0.145221            OUT018                       2009   \n",
       "8522    75.4670         0.044878            OUT046                       1997   \n",
       "\n",
       "      outlet_size_str  outlet_size_num outlet_location_type  \\\n",
       "index                                                         \n",
       "8520            small                1               Tier 2   \n",
       "8521           medium                2               Tier 3   \n",
       "8522            small                1               Tier 1   \n",
       "\n",
       "             outlet_type  item_outlet_sales  outlet_item_revenue  \n",
       "index                                                             \n",
       "8520   Supermarket Type1          1193.1136            101560.69  \n",
       "8521   Supermarket Type2          1845.5976            190342.39  \n",
       "8522   Supermarket Type1           765.6700             57782.82  "
      ]
     },
     "execution_count": 38,
     "metadata": {},
     "output_type": "execute_result"
    }
   ],
   "source": [
    "df.tail(3)"
   ]
  },
  {
   "cell_type": "code",
   "execution_count": 39,
   "metadata": {},
   "outputs": [
    {
     "name": "stdout",
     "output_type": "stream",
     "text": [
      "1985\n",
      "2009\n"
     ]
    }
   ],
   "source": [
    "# sejarah tahun awal didirikannya toko\n",
    "\n",
    "print(df.outlet_establishment_year.min())\n",
    "print(df.outlet_establishment_year.max())"
   ]
  },
  {
   "cell_type": "code",
   "execution_count": 40,
   "metadata": {},
   "outputs": [
    {
     "name": "stdout",
     "output_type": "stream",
     "text": [
      "Jumlah outlet High   :  932\n",
      "Jumlah outlet medium :  5203\n",
      "Jumlah outlet Small  :  2388\n"
     ]
    }
   ],
   "source": [
    "# oksplorasi singkat untuk jumlah outlet\n",
    "print('Jumlah outlet High   : ',len(df[df['outlet_size_str'] == 'high']))\n",
    "print('Jumlah outlet medium : ',len(df[df['outlet_size_str'] == 'medium']))\n",
    "print('Jumlah outlet Small  : ',len(df[df['outlet_size_str'] == 'small']))"
   ]
  },
  {
   "attachments": {},
   "cell_type": "markdown",
   "metadata": {},
   "source": [
    "## Problem Statement dan Penjabaran Masalah"
   ]
  },
  {
   "attachments": {},
   "cell_type": "markdown",
   "metadata": {},
   "source": [
    "PS : Problem Statement : Franchise Toko Big Store sedang mengalami kemunduran revenue, dari data, buatlah analisa dan rekomendasi sesuai kebutuhan. \n",
    "\n",
    "1. Rata Rata penjualan menurut spesifikasi toko dan lokasi\n",
    "2. Bagaimana korelasi antara kategori produk, total penjualan dan variasi produk?\n",
    "3. Bagaimana secara umum pembagian visibilitas produk di toko?\n",
    "4. Bagaimana penjualan dengan kategori lemak low fat?\n",
    "5. Supermarket tipe apa yang menjual item lowfat terbanyak?\n",
    "6. Bagaimana korelasi antara penjualan dan harga maksimum dari suatu kategori item?\n"
   ]
  },
  {
   "attachments": {},
   "cell_type": "markdown",
   "metadata": {},
   "source": [
    "## Analisa Visual & Descriptive Statistics"
   ]
  },
  {
   "attachments": {},
   "cell_type": "markdown",
   "metadata": {},
   "source": [
    "### 1. Rata Rata penjualan menurut spesifikasi toko dan lokasi"
   ]
  },
  {
   "cell_type": "code",
   "execution_count": 41,
   "metadata": {},
   "outputs": [
    {
     "data": {
      "text/html": [
       "<div>\n",
       "<style scoped>\n",
       "    .dataframe tbody tr th:only-of-type {\n",
       "        vertical-align: middle;\n",
       "    }\n",
       "\n",
       "    .dataframe tbody tr th {\n",
       "        vertical-align: top;\n",
       "    }\n",
       "\n",
       "    .dataframe thead th {\n",
       "        text-align: right;\n",
       "    }\n",
       "</style>\n",
       "<table border=\"1\" class=\"dataframe\">\n",
       "  <thead>\n",
       "    <tr style=\"text-align: right;\">\n",
       "      <th></th>\n",
       "      <th>item_identifier</th>\n",
       "      <th>item_weight</th>\n",
       "      <th>item_type</th>\n",
       "      <th>item_fat_content</th>\n",
       "      <th>item_mrp</th>\n",
       "      <th>item_visibility</th>\n",
       "      <th>outlet_identifier</th>\n",
       "      <th>outlet_establishment_year</th>\n",
       "      <th>outlet_size_str</th>\n",
       "      <th>outlet_size_num</th>\n",
       "      <th>outlet_location_type</th>\n",
       "      <th>outlet_type</th>\n",
       "      <th>item_outlet_sales</th>\n",
       "      <th>outlet_item_revenue</th>\n",
       "    </tr>\n",
       "    <tr>\n",
       "      <th>index</th>\n",
       "      <th></th>\n",
       "      <th></th>\n",
       "      <th></th>\n",
       "      <th></th>\n",
       "      <th></th>\n",
       "      <th></th>\n",
       "      <th></th>\n",
       "      <th></th>\n",
       "      <th></th>\n",
       "      <th></th>\n",
       "      <th></th>\n",
       "      <th></th>\n",
       "      <th></th>\n",
       "      <th></th>\n",
       "    </tr>\n",
       "  </thead>\n",
       "  <tbody>\n",
       "    <tr>\n",
       "      <th>0</th>\n",
       "      <td>FDA15</td>\n",
       "      <td>9.30</td>\n",
       "      <td>Dairy</td>\n",
       "      <td>Low Fat</td>\n",
       "      <td>249.8092</td>\n",
       "      <td>0.016047</td>\n",
       "      <td>OUT049</td>\n",
       "      <td>1999</td>\n",
       "      <td>medium</td>\n",
       "      <td>2</td>\n",
       "      <td>Tier 1</td>\n",
       "      <td>Supermarket Type1</td>\n",
       "      <td>3735.1380</td>\n",
       "      <td>933071.84</td>\n",
       "    </tr>\n",
       "    <tr>\n",
       "      <th>1</th>\n",
       "      <td>DRC01</td>\n",
       "      <td>5.92</td>\n",
       "      <td>Soft Drinks</td>\n",
       "      <td>Regular</td>\n",
       "      <td>48.2692</td>\n",
       "      <td>0.019278</td>\n",
       "      <td>OUT018</td>\n",
       "      <td>2009</td>\n",
       "      <td>medium</td>\n",
       "      <td>2</td>\n",
       "      <td>Tier 3</td>\n",
       "      <td>Supermarket Type2</td>\n",
       "      <td>443.4228</td>\n",
       "      <td>21403.66</td>\n",
       "    </tr>\n",
       "    <tr>\n",
       "      <th>2</th>\n",
       "      <td>FDN15</td>\n",
       "      <td>17.50</td>\n",
       "      <td>Meat</td>\n",
       "      <td>Low Fat</td>\n",
       "      <td>141.6180</td>\n",
       "      <td>0.016760</td>\n",
       "      <td>OUT049</td>\n",
       "      <td>1999</td>\n",
       "      <td>medium</td>\n",
       "      <td>2</td>\n",
       "      <td>Tier 1</td>\n",
       "      <td>Supermarket Type1</td>\n",
       "      <td>2097.2700</td>\n",
       "      <td>297011.18</td>\n",
       "    </tr>\n",
       "  </tbody>\n",
       "</table>\n",
       "</div>"
      ],
      "text/plain": [
       "      item_identifier  item_weight    item_type item_fat_content  item_mrp  \\\n",
       "index                                                                        \n",
       "0               FDA15         9.30        Dairy          Low Fat  249.8092   \n",
       "1               DRC01         5.92  Soft Drinks          Regular   48.2692   \n",
       "2               FDN15        17.50         Meat          Low Fat  141.6180   \n",
       "\n",
       "       item_visibility outlet_identifier  outlet_establishment_year  \\\n",
       "index                                                                 \n",
       "0             0.016047            OUT049                       1999   \n",
       "1             0.019278            OUT018                       2009   \n",
       "2             0.016760            OUT049                       1999   \n",
       "\n",
       "      outlet_size_str  outlet_size_num outlet_location_type  \\\n",
       "index                                                         \n",
       "0              medium                2               Tier 1   \n",
       "1              medium                2               Tier 3   \n",
       "2              medium                2               Tier 1   \n",
       "\n",
       "             outlet_type  item_outlet_sales  outlet_item_revenue  \n",
       "index                                                             \n",
       "0      Supermarket Type1          3735.1380            933071.84  \n",
       "1      Supermarket Type2           443.4228             21403.66  \n",
       "2      Supermarket Type1          2097.2700            297011.18  "
      ]
     },
     "execution_count": 41,
     "metadata": {},
     "output_type": "execute_result"
    }
   ],
   "source": [
    "df.head(3)"
   ]
  },
  {
   "cell_type": "code",
   "execution_count": 42,
   "metadata": {},
   "outputs": [],
   "source": [
    "small_outlet = df[df.outlet_size_str=='small']\n",
    "medium_outlet = df[df.outlet_size_str=='medium']\n",
    "high_outlet = df[df.outlet_size_str=='high']"
   ]
  },
  {
   "cell_type": "code",
   "execution_count": 43,
   "metadata": {},
   "outputs": [
    {
     "name": "stdout",
     "output_type": "stream",
     "text": [
      "Small outlet terletak paling banyak di kota  :  1\n",
      "Medium outlet terletak paling banyak di kota :  2\n",
      "High outlet terletak paling banyak di kota   :  3\n"
     ]
    }
   ],
   "source": [
    "# analisa deskriptif distribusi size toko dan kota\n",
    "\n",
    "print('Small outlet terletak paling banyak di kota  : ',small_outlet.outlet_size_num.mode()[0])\n",
    "print('Medium outlet terletak paling banyak di kota : ',medium_outlet.outlet_size_num.mode()[0])\n",
    "print('High outlet terletak paling banyak di kota   : ',high_outlet.outlet_size_num.mode()[0])"
   ]
  },
  {
   "cell_type": "code",
   "execution_count": 44,
   "metadata": {},
   "outputs": [
    {
     "name": "stdout",
     "output_type": "stream",
     "text": [
      "Rata rata revenue dari tipe outlet selama berdiri\n",
      "Rata rata penjualan outlet small     :  323581.52 USD\n",
      "Rata rata penjualan outlet medium    :  383630.63 USD\n",
      "Rata rata penjualan outlet high      :  393237.4 USD\n"
     ]
    }
   ],
   "source": [
    "# mean dari masing masing size outlet\n",
    "\n",
    "print('Rata rata revenue dari tipe outlet selama berdiri')\n",
    "\n",
    "print('Rata rata penjualan outlet small     : ',round(df[df.outlet_size_str=='small']['outlet_item_revenue'].mean(),2), 'USD')\n",
    "print('Rata rata penjualan outlet medium    : ',round(df[df.outlet_size_str=='medium']['outlet_item_revenue'].mean(),2), 'USD')\n",
    "print('Rata rata penjualan outlet high      : ',round(df[df.outlet_size_str=='high']['outlet_item_revenue'].mean(),2), 'USD')"
   ]
  },
  {
   "cell_type": "code",
   "execution_count": 45,
   "metadata": {},
   "outputs": [],
   "source": [
    "df_sizes = df.loc[:,['outlet_size_str','outlet_item_revenue']]"
   ]
  },
  {
   "cell_type": "code",
   "execution_count": 46,
   "metadata": {},
   "outputs": [
    {
     "data": {
      "text/plain": [
       "Text(0.5, 0.98, 'Avg Product Sales by Outlet Size')"
      ]
     },
     "execution_count": 46,
     "metadata": {},
     "output_type": "execute_result"
    },
    {
     "data": {
      "image/png": "[encoded data removed]",
      "text/plain": [
       "<Figure size 500x300 with 1 Axes>"
      ]
     },
     "metadata": {},
     "output_type": "display_data"
    }
   ],
   "source": [
    "# plotting rata rata penjualan berasarkan size outlet\n",
    "\n",
    "data = {'Small Outlet': small_outlet.outlet_item_revenue.mean(), 'Medium Outlet': medium_outlet.outlet_item_revenue.mean(), 'High Outlet': medium_outlet.outlet_item_revenue.mean()}\n",
    "names = list(data.keys())\n",
    "values = list(data.values())\n",
    "\n",
    "fig, axs = plt.subplots(1, 1, figsize=(5, 3), sharey=True)\n",
    "axs.bar(names, values)\n",
    "\n",
    "fig.suptitle('Avg Product Sales by Outlet Size')"
   ]
  },
  {
   "attachments": {},
   "cell_type": "markdown",
   "metadata": {},
   "source": [
    "**Insight** \n",
    "\n",
    "- Rata rata revenue dari masing masing kelas outlet terlihat hampir sama walaupun jumlah outlet dari masing masing kategori berbeda dan tanggal didirikannya berbeda.\n",
    "- outlet pertama yang dibangun adalah outlet dengan kelas medium diahun 1985 (diasumsikan dari median data)\n",
    "- Jadi ukuran outlet tidak memiliki efek signifikan terhadap penjualan"
   ]
  },
  {
   "cell_type": "code",
   "execution_count": 47,
   "metadata": {},
   "outputs": [
    {
     "data": {
      "text/plain": [
       "(array([0, 1, 2, 3]),\n",
       " [Text(0, 0, 'Grocery Store'),\n",
       "  Text(1, 0, 'Supermarket Type1'),\n",
       "  Text(2, 0, 'Supermarket Type2'),\n",
       "  Text(3, 0, 'Supermarket Type3')])"
      ]
     },
     "execution_count": 47,
     "metadata": {},
     "output_type": "execute_result"
    },
    {
     "data": {
      "image/png": "[encoded data removed]",
      "text/plain": [
       "<Figure size 500x300 with 1 Axes>"
      ]
     },
     "metadata": {},
     "output_type": "display_data"
    }
   ],
   "source": [
    "# plotting rata rata penjualan berasarkan tipe outlet\n",
    "\n",
    "df_sup = df.loc[:,('item_outlet_sales','outlet_type')].groupby('outlet_type').mean()\n",
    "\n",
    "df_sup.plot(figsize=(5,3),kind='bar', title= '\\n Number of Product Sales by Supermarket Type \\n',xlabel='\\n Item Kategori',ylabel='\\n Total Sales \\n')\n",
    "plt.xticks(rotation = 30)"
   ]
  },
  {
   "attachments": {},
   "cell_type": "markdown",
   "metadata": {},
   "source": [
    "**Insight**\n",
    "\n",
    "- Rata-rata penjualan di supermarket type 3 lebih banyak dibandingkan type outlet yang lain dan tipe grocery store memang adalah tipe yang paling sedikit pemasukannya\n"
   ]
  },
  {
   "cell_type": "code",
   "execution_count": 48,
   "metadata": {},
   "outputs": [
    {
     "data": {
      "text/plain": [
       "<AxesSubplot:title={'center':'\\n Number of Product Sales by City Type \\n'}, xlabel='Item Kategori', ylabel='Total Sales'>"
      ]
     },
     "execution_count": 48,
     "metadata": {},
     "output_type": "execute_result"
    },
    {
     "data": {
      "image/png": "[encoded data removed]",
      "text/plain": [
       "<Figure size 500x300 with 1 Axes>"
      ]
     },
     "metadata": {},
     "output_type": "display_data"
    }
   ],
   "source": [
    "# plotting rata rata penjualan berasarkan lokasi tier kota\n",
    "\n",
    "df_city = df.loc[:,('item_outlet_sales','outlet_location_type')].groupby('outlet_location_type').mean()\n",
    "\n",
    "df_city.plot(figsize=(5,3),kind='bar', title= '\\n Number of Product Sales by City Type \\n',xlabel='Item Kategori',ylabel='Total Sales')\n"
   ]
  },
  {
   "attachments": {},
   "cell_type": "markdown",
   "metadata": {},
   "source": [
    "**Insight Poin 1**\n",
    "\n",
    "- digabungkan dari data di plot 1 , penjualan memang lebih tinggi jika memiliki tipe outlet seperti supermarket type 3. \n",
    "\n",
    "- Dan untuk plot 2 dan 3, faktor size outlet dan lokasi kota outlet sepertinya tidak berperan signifikan terhadap penjualan."
   ]
  },
  {
   "attachments": {},
   "cell_type": "markdown",
   "metadata": {},
   "source": [
    "### 2. Korelasi Kategori Produk, Total Penjualan dan Variasi Produk"
   ]
  },
  {
   "cell_type": "code",
   "execution_count": 49,
   "metadata": {},
   "outputs": [
    {
     "data": {
      "text/html": [
       "<div>\n",
       "<style scoped>\n",
       "    .dataframe tbody tr th:only-of-type {\n",
       "        vertical-align: middle;\n",
       "    }\n",
       "\n",
       "    .dataframe tbody tr th {\n",
       "        vertical-align: top;\n",
       "    }\n",
       "\n",
       "    .dataframe thead th {\n",
       "        text-align: right;\n",
       "    }\n",
       "</style>\n",
       "<table border=\"1\" class=\"dataframe\">\n",
       "  <thead>\n",
       "    <tr style=\"text-align: right;\">\n",
       "      <th></th>\n",
       "      <th>item_identifier</th>\n",
       "      <th>item_weight</th>\n",
       "      <th>item_type</th>\n",
       "      <th>item_fat_content</th>\n",
       "      <th>item_mrp</th>\n",
       "      <th>item_visibility</th>\n",
       "      <th>outlet_identifier</th>\n",
       "      <th>outlet_establishment_year</th>\n",
       "      <th>outlet_size_str</th>\n",
       "      <th>outlet_size_num</th>\n",
       "      <th>outlet_location_type</th>\n",
       "      <th>outlet_type</th>\n",
       "      <th>item_outlet_sales</th>\n",
       "      <th>outlet_item_revenue</th>\n",
       "    </tr>\n",
       "    <tr>\n",
       "      <th>index</th>\n",
       "      <th></th>\n",
       "      <th></th>\n",
       "      <th></th>\n",
       "      <th></th>\n",
       "      <th></th>\n",
       "      <th></th>\n",
       "      <th></th>\n",
       "      <th></th>\n",
       "      <th></th>\n",
       "      <th></th>\n",
       "      <th></th>\n",
       "      <th></th>\n",
       "      <th></th>\n",
       "      <th></th>\n",
       "    </tr>\n",
       "  </thead>\n",
       "  <tbody>\n",
       "    <tr>\n",
       "      <th>0</th>\n",
       "      <td>FDA15</td>\n",
       "      <td>9.30</td>\n",
       "      <td>Dairy</td>\n",
       "      <td>Low Fat</td>\n",
       "      <td>249.8092</td>\n",
       "      <td>0.016047</td>\n",
       "      <td>OUT049</td>\n",
       "      <td>1999</td>\n",
       "      <td>medium</td>\n",
       "      <td>2</td>\n",
       "      <td>Tier 1</td>\n",
       "      <td>Supermarket Type1</td>\n",
       "      <td>3735.1380</td>\n",
       "      <td>933071.84</td>\n",
       "    </tr>\n",
       "    <tr>\n",
       "      <th>1</th>\n",
       "      <td>DRC01</td>\n",
       "      <td>5.92</td>\n",
       "      <td>Soft Drinks</td>\n",
       "      <td>Regular</td>\n",
       "      <td>48.2692</td>\n",
       "      <td>0.019278</td>\n",
       "      <td>OUT018</td>\n",
       "      <td>2009</td>\n",
       "      <td>medium</td>\n",
       "      <td>2</td>\n",
       "      <td>Tier 3</td>\n",
       "      <td>Supermarket Type2</td>\n",
       "      <td>443.4228</td>\n",
       "      <td>21403.66</td>\n",
       "    </tr>\n",
       "    <tr>\n",
       "      <th>2</th>\n",
       "      <td>FDN15</td>\n",
       "      <td>17.50</td>\n",
       "      <td>Meat</td>\n",
       "      <td>Low Fat</td>\n",
       "      <td>141.6180</td>\n",
       "      <td>0.016760</td>\n",
       "      <td>OUT049</td>\n",
       "      <td>1999</td>\n",
       "      <td>medium</td>\n",
       "      <td>2</td>\n",
       "      <td>Tier 1</td>\n",
       "      <td>Supermarket Type1</td>\n",
       "      <td>2097.2700</td>\n",
       "      <td>297011.18</td>\n",
       "    </tr>\n",
       "  </tbody>\n",
       "</table>\n",
       "</div>"
      ],
      "text/plain": [
       "      item_identifier  item_weight    item_type item_fat_content  item_mrp  \\\n",
       "index                                                                        \n",
       "0               FDA15         9.30        Dairy          Low Fat  249.8092   \n",
       "1               DRC01         5.92  Soft Drinks          Regular   48.2692   \n",
       "2               FDN15        17.50         Meat          Low Fat  141.6180   \n",
       "\n",
       "       item_visibility outlet_identifier  outlet_establishment_year  \\\n",
       "index                                                                 \n",
       "0             0.016047            OUT049                       1999   \n",
       "1             0.019278            OUT018                       2009   \n",
       "2             0.016760            OUT049                       1999   \n",
       "\n",
       "      outlet_size_str  outlet_size_num outlet_location_type  \\\n",
       "index                                                         \n",
       "0              medium                2               Tier 1   \n",
       "1              medium                2               Tier 3   \n",
       "2              medium                2               Tier 1   \n",
       "\n",
       "             outlet_type  item_outlet_sales  outlet_item_revenue  \n",
       "index                                                             \n",
       "0      Supermarket Type1          3735.1380            933071.84  \n",
       "1      Supermarket Type2           443.4228             21403.66  \n",
       "2      Supermarket Type1          2097.2700            297011.18  "
      ]
     },
     "execution_count": 49,
     "metadata": {},
     "output_type": "execute_result"
    }
   ],
   "source": [
    "df.head(3)"
   ]
  },
  {
   "cell_type": "code",
   "execution_count": 50,
   "metadata": {},
   "outputs": [
    {
     "data": {
      "text/plain": [
       "array(['Dairy', 'Soft Drinks', 'Meat', 'Fruits and Vegetables',\n",
       "       'Household', 'Baking Goods', 'Snack Foods', 'Frozen Foods',\n",
       "       'Breakfast', 'Health and Hygiene', 'Hard Drinks', 'Canned',\n",
       "       'Breads', 'Starchy Foods', 'Others', 'Seafood'], dtype=object)"
      ]
     },
     "execution_count": 50,
     "metadata": {},
     "output_type": "execute_result"
    }
   ],
   "source": [
    "df.item_type.unique()"
   ]
  },
  {
   "cell_type": "code",
   "execution_count": 51,
   "metadata": {},
   "outputs": [
    {
     "data": {
      "text/plain": [
       "<AxesSubplot:title={'center':'\\n Rata-rata penjualan item low fat \\n'}, ylabel='Item Kategori'>"
      ]
     },
     "execution_count": 51,
     "metadata": {},
     "output_type": "execute_result"
    },
    {
     "data": {
      "image/png": "[encoded data removed]",
      "text/plain": [
       "<Figure size 640x480 with 1 Axes>"
      ]
     },
     "metadata": {},
     "output_type": "display_data"
    }
   ],
   "source": [
    "# pembuatan bar chart, Rata rata penjualan kategori item yang berbeda beda\n",
    "\n",
    "df_items = df.loc[:,['item_outlet_sales','item_type']].groupby('item_type').mean()\n",
    "df_items['item_outlet_sales'].sort_values().plot(kind='barh', title= '\\n Rata-rata penjualan item low fat \\n',xlabel='Item Kategori',ylabel='Total Sales', color='green')\n"
   ]
  },
  {
   "attachments": {},
   "cell_type": "markdown",
   "metadata": {},
   "source": [
    "**insight**\n",
    "\n",
    " - dalam grafik sekilas memperlihatkan RATA RATA penjualan setiap item disemua toko. Dan penjualan terbanyak adalah di ketgori starchy food dan diikuti oleh seafood."
   ]
  },
  {
   "cell_type": "code",
   "execution_count": 52,
   "metadata": {},
   "outputs": [
    {
     "data": {
      "text/html": [
       "<div>\n",
       "<style scoped>\n",
       "    .dataframe tbody tr th:only-of-type {\n",
       "        vertical-align: middle;\n",
       "    }\n",
       "\n",
       "    .dataframe tbody tr th {\n",
       "        vertical-align: top;\n",
       "    }\n",
       "\n",
       "    .dataframe thead th {\n",
       "        text-align: right;\n",
       "    }\n",
       "</style>\n",
       "<table border=\"1\" class=\"dataframe\">\n",
       "  <thead>\n",
       "    <tr style=\"text-align: right;\">\n",
       "      <th></th>\n",
       "      <th>item_identifier</th>\n",
       "      <th>item_outlet_sale</th>\n",
       "    </tr>\n",
       "    <tr>\n",
       "      <th>item_type</th>\n",
       "      <th></th>\n",
       "      <th></th>\n",
       "    </tr>\n",
       "  </thead>\n",
       "  <tbody>\n",
       "    <tr>\n",
       "      <th>Baking Goods</th>\n",
       "      <td>648</td>\n",
       "      <td>1952.971207</td>\n",
       "    </tr>\n",
       "    <tr>\n",
       "      <th>Breads</th>\n",
       "      <td>251</td>\n",
       "      <td>2204.132226</td>\n",
       "    </tr>\n",
       "    <tr>\n",
       "      <th>Breakfast</th>\n",
       "      <td>110</td>\n",
       "      <td>2111.808651</td>\n",
       "    </tr>\n",
       "    <tr>\n",
       "      <th>Canned</th>\n",
       "      <td>649</td>\n",
       "      <td>2225.194904</td>\n",
       "    </tr>\n",
       "    <tr>\n",
       "      <th>Dairy</th>\n",
       "      <td>682</td>\n",
       "      <td>2232.542597</td>\n",
       "    </tr>\n",
       "    <tr>\n",
       "      <th>Frozen Foods</th>\n",
       "      <td>856</td>\n",
       "      <td>2132.867744</td>\n",
       "    </tr>\n",
       "    <tr>\n",
       "      <th>Fruits and Vegetables</th>\n",
       "      <td>1232</td>\n",
       "      <td>2289.009592</td>\n",
       "    </tr>\n",
       "    <tr>\n",
       "      <th>Hard Drinks</th>\n",
       "      <td>214</td>\n",
       "      <td>2139.221622</td>\n",
       "    </tr>\n",
       "    <tr>\n",
       "      <th>Health and Hygiene</th>\n",
       "      <td>520</td>\n",
       "      <td>2010.000265</td>\n",
       "    </tr>\n",
       "    <tr>\n",
       "      <th>Household</th>\n",
       "      <td>910</td>\n",
       "      <td>2258.784300</td>\n",
       "    </tr>\n",
       "    <tr>\n",
       "      <th>Meat</th>\n",
       "      <td>425</td>\n",
       "      <td>2158.977911</td>\n",
       "    </tr>\n",
       "    <tr>\n",
       "      <th>Others</th>\n",
       "      <td>169</td>\n",
       "      <td>1926.139702</td>\n",
       "    </tr>\n",
       "    <tr>\n",
       "      <th>Seafood</th>\n",
       "      <td>64</td>\n",
       "      <td>2326.065928</td>\n",
       "    </tr>\n",
       "    <tr>\n",
       "      <th>Snack Foods</th>\n",
       "      <td>1200</td>\n",
       "      <td>2277.321739</td>\n",
       "    </tr>\n",
       "    <tr>\n",
       "      <th>Soft Drinks</th>\n",
       "      <td>445</td>\n",
       "      <td>2006.511735</td>\n",
       "    </tr>\n",
       "    <tr>\n",
       "      <th>Starchy Foods</th>\n",
       "      <td>148</td>\n",
       "      <td>2374.332773</td>\n",
       "    </tr>\n",
       "  </tbody>\n",
       "</table>\n",
       "</div>"
      ],
      "text/plain": [
       "                       item_identifier  item_outlet_sale\n",
       "item_type                                               \n",
       "Baking Goods                       648       1952.971207\n",
       "Breads                             251       2204.132226\n",
       "Breakfast                          110       2111.808651\n",
       "Canned                             649       2225.194904\n",
       "Dairy                              682       2232.542597\n",
       "Frozen Foods                       856       2132.867744\n",
       "Fruits and Vegetables             1232       2289.009592\n",
       "Hard Drinks                        214       2139.221622\n",
       "Health and Hygiene                 520       2010.000265\n",
       "Household                          910       2258.784300\n",
       "Meat                               425       2158.977911\n",
       "Others                             169       1926.139702\n",
       "Seafood                             64       2326.065928\n",
       "Snack Foods                       1200       2277.321739\n",
       "Soft Drinks                        445       2006.511735\n",
       "Starchy Foods                      148       2374.332773"
      ]
     },
     "execution_count": 52,
     "metadata": {},
     "output_type": "execute_result"
    }
   ],
   "source": [
    "# pembuatan tabel korelasi\n",
    "\n",
    "corr_id_sale = df.loc[:,('item_identifier','item_type')].groupby('item_type').count()\n",
    "\n",
    "corr_id_sale['item_outlet_sale'] =  df.loc[:,('item_identifier','item_outlet_sales','item_type')].groupby('item_type').mean()\n",
    "\n",
    "corr_id_sale"
   ]
  },
  {
   "cell_type": "code",
   "execution_count": 53,
   "metadata": {},
   "outputs": [
    {
     "data": {
      "text/plain": [
       "<AxesSubplot:xlabel='item_identifier', ylabel='item_outlet_sale'>"
      ]
     },
     "execution_count": 53,
     "metadata": {},
     "output_type": "execute_result"
    },
    {
     "data": {
      "image/png": "[encoded data removed]",
      "text/plain": [
       "<Figure size 1500x1000 with 1 Axes>"
      ]
     },
     "metadata": {},
     "output_type": "display_data"
    }
   ],
   "source": [
    "# membuat plot korelasi antara variasi item dengan total penjualan!\n",
    "\n",
    "fig= plt.subplots(figsize=(15, 10))\n",
    "\n",
    "sns.scatterplot(data=corr_id_sale, x='item_identifier', y= 'item_outlet_sale', hue='item_type',palette=\"husl\",sizes=(100, 300),size=('item_outlet_sale'))\n",
    "\n"
   ]
  },
  {
   "attachments": {},
   "cell_type": "markdown",
   "metadata": {},
   "source": [
    "**Insight**\n",
    "\n",
    "- Penjualan terbanyak dari item buah buahan dan sayuran lalu diikuti degan snack foods\n",
    "- Item Seafood dan Starchy food memiliki VARIASI yang RENDAH tetapi memiliki tingkat PENJUALAN yang TINGGI, ini bisa menjadi poin improvement untuk toko Big Mart"
   ]
  },
  {
   "attachments": {},
   "cell_type": "markdown",
   "metadata": {},
   "source": [
    "### 3. Bagaimana secara umum pembagian visibilitas produk di toko?"
   ]
  },
  {
   "cell_type": "code",
   "execution_count": 54,
   "metadata": {},
   "outputs": [
    {
     "data": {
      "text/html": [
       "<div>\n",
       "<style scoped>\n",
       "    .dataframe tbody tr th:only-of-type {\n",
       "        vertical-align: middle;\n",
       "    }\n",
       "\n",
       "    .dataframe tbody tr th {\n",
       "        vertical-align: top;\n",
       "    }\n",
       "\n",
       "    .dataframe thead th {\n",
       "        text-align: right;\n",
       "    }\n",
       "</style>\n",
       "<table border=\"1\" class=\"dataframe\">\n",
       "  <thead>\n",
       "    <tr style=\"text-align: right;\">\n",
       "      <th></th>\n",
       "      <th>item_identifier</th>\n",
       "      <th>item_weight</th>\n",
       "      <th>item_type</th>\n",
       "      <th>item_fat_content</th>\n",
       "      <th>item_mrp</th>\n",
       "      <th>item_visibility</th>\n",
       "      <th>outlet_identifier</th>\n",
       "      <th>outlet_establishment_year</th>\n",
       "      <th>outlet_size_str</th>\n",
       "      <th>outlet_size_num</th>\n",
       "      <th>outlet_location_type</th>\n",
       "      <th>outlet_type</th>\n",
       "      <th>item_outlet_sales</th>\n",
       "      <th>outlet_item_revenue</th>\n",
       "    </tr>\n",
       "    <tr>\n",
       "      <th>index</th>\n",
       "      <th></th>\n",
       "      <th></th>\n",
       "      <th></th>\n",
       "      <th></th>\n",
       "      <th></th>\n",
       "      <th></th>\n",
       "      <th></th>\n",
       "      <th></th>\n",
       "      <th></th>\n",
       "      <th></th>\n",
       "      <th></th>\n",
       "      <th></th>\n",
       "      <th></th>\n",
       "      <th></th>\n",
       "    </tr>\n",
       "  </thead>\n",
       "  <tbody>\n",
       "    <tr>\n",
       "      <th>0</th>\n",
       "      <td>FDA15</td>\n",
       "      <td>9.30</td>\n",
       "      <td>Dairy</td>\n",
       "      <td>Low Fat</td>\n",
       "      <td>249.8092</td>\n",
       "      <td>0.016047</td>\n",
       "      <td>OUT049</td>\n",
       "      <td>1999</td>\n",
       "      <td>medium</td>\n",
       "      <td>2</td>\n",
       "      <td>Tier 1</td>\n",
       "      <td>Supermarket Type1</td>\n",
       "      <td>3735.1380</td>\n",
       "      <td>933071.84</td>\n",
       "    </tr>\n",
       "    <tr>\n",
       "      <th>1</th>\n",
       "      <td>DRC01</td>\n",
       "      <td>5.92</td>\n",
       "      <td>Soft Drinks</td>\n",
       "      <td>Regular</td>\n",
       "      <td>48.2692</td>\n",
       "      <td>0.019278</td>\n",
       "      <td>OUT018</td>\n",
       "      <td>2009</td>\n",
       "      <td>medium</td>\n",
       "      <td>2</td>\n",
       "      <td>Tier 3</td>\n",
       "      <td>Supermarket Type2</td>\n",
       "      <td>443.4228</td>\n",
       "      <td>21403.66</td>\n",
       "    </tr>\n",
       "    <tr>\n",
       "      <th>2</th>\n",
       "      <td>FDN15</td>\n",
       "      <td>17.50</td>\n",
       "      <td>Meat</td>\n",
       "      <td>Low Fat</td>\n",
       "      <td>141.6180</td>\n",
       "      <td>0.016760</td>\n",
       "      <td>OUT049</td>\n",
       "      <td>1999</td>\n",
       "      <td>medium</td>\n",
       "      <td>2</td>\n",
       "      <td>Tier 1</td>\n",
       "      <td>Supermarket Type1</td>\n",
       "      <td>2097.2700</td>\n",
       "      <td>297011.18</td>\n",
       "    </tr>\n",
       "  </tbody>\n",
       "</table>\n",
       "</div>"
      ],
      "text/plain": [
       "      item_identifier  item_weight    item_type item_fat_content  item_mrp  \\\n",
       "index                                                                        \n",
       "0               FDA15         9.30        Dairy          Low Fat  249.8092   \n",
       "1               DRC01         5.92  Soft Drinks          Regular   48.2692   \n",
       "2               FDN15        17.50         Meat          Low Fat  141.6180   \n",
       "\n",
       "       item_visibility outlet_identifier  outlet_establishment_year  \\\n",
       "index                                                                 \n",
       "0             0.016047            OUT049                       1999   \n",
       "1             0.019278            OUT018                       2009   \n",
       "2             0.016760            OUT049                       1999   \n",
       "\n",
       "      outlet_size_str  outlet_size_num outlet_location_type  \\\n",
       "index                                                         \n",
       "0              medium                2               Tier 1   \n",
       "1              medium                2               Tier 3   \n",
       "2              medium                2               Tier 1   \n",
       "\n",
       "             outlet_type  item_outlet_sales  outlet_item_revenue  \n",
       "index                                                             \n",
       "0      Supermarket Type1          3735.1380            933071.84  \n",
       "1      Supermarket Type2           443.4228             21403.66  \n",
       "2      Supermarket Type1          2097.2700            297011.18  "
      ]
     },
     "execution_count": 54,
     "metadata": {},
     "output_type": "execute_result"
    }
   ],
   "source": [
    "df.head(3)"
   ]
  },
  {
   "cell_type": "code",
   "execution_count": 55,
   "metadata": {},
   "outputs": [
    {
     "data": {
      "text/html": [
       "<div>\n",
       "<style scoped>\n",
       "    .dataframe tbody tr th:only-of-type {\n",
       "        vertical-align: middle;\n",
       "    }\n",
       "\n",
       "    .dataframe tbody tr th {\n",
       "        vertical-align: top;\n",
       "    }\n",
       "\n",
       "    .dataframe thead th {\n",
       "        text-align: right;\n",
       "    }\n",
       "</style>\n",
       "<table border=\"1\" class=\"dataframe\">\n",
       "  <thead>\n",
       "    <tr style=\"text-align: right;\">\n",
       "      <th></th>\n",
       "      <th>item_visibility</th>\n",
       "    </tr>\n",
       "    <tr>\n",
       "      <th>item_type</th>\n",
       "      <th></th>\n",
       "    </tr>\n",
       "  </thead>\n",
       "  <tbody>\n",
       "    <tr>\n",
       "      <th>Breakfast</th>\n",
       "      <td>0.085723</td>\n",
       "    </tr>\n",
       "    <tr>\n",
       "      <th>Seafood</th>\n",
       "      <td>0.074976</td>\n",
       "    </tr>\n",
       "    <tr>\n",
       "      <th>Dairy</th>\n",
       "      <td>0.072427</td>\n",
       "    </tr>\n",
       "    <tr>\n",
       "      <th>Baking Goods</th>\n",
       "      <td>0.069169</td>\n",
       "    </tr>\n",
       "    <tr>\n",
       "      <th>Fruits and Vegetables</th>\n",
       "      <td>0.068513</td>\n",
       "    </tr>\n",
       "    <tr>\n",
       "      <th>Canned</th>\n",
       "      <td>0.068129</td>\n",
       "    </tr>\n",
       "    <tr>\n",
       "      <th>Starchy Foods</th>\n",
       "      <td>0.067564</td>\n",
       "    </tr>\n",
       "    <tr>\n",
       "      <th>Snack Foods</th>\n",
       "      <td>0.066850</td>\n",
       "    </tr>\n",
       "    <tr>\n",
       "      <th>Breads</th>\n",
       "      <td>0.066255</td>\n",
       "    </tr>\n",
       "    <tr>\n",
       "      <th>Frozen Foods</th>\n",
       "      <td>0.065645</td>\n",
       "    </tr>\n",
       "    <tr>\n",
       "      <th>Hard Drinks</th>\n",
       "      <td>0.064943</td>\n",
       "    </tr>\n",
       "    <tr>\n",
       "      <th>Soft Drinks</th>\n",
       "      <td>0.063972</td>\n",
       "    </tr>\n",
       "    <tr>\n",
       "      <th>Meat</th>\n",
       "      <td>0.062284</td>\n",
       "    </tr>\n",
       "    <tr>\n",
       "      <th>Household</th>\n",
       "      <td>0.061322</td>\n",
       "    </tr>\n",
       "    <tr>\n",
       "      <th>Others</th>\n",
       "      <td>0.060241</td>\n",
       "    </tr>\n",
       "    <tr>\n",
       "      <th>Health and Hygiene</th>\n",
       "      <td>0.055216</td>\n",
       "    </tr>\n",
       "  </tbody>\n",
       "</table>\n",
       "</div>"
      ],
      "text/plain": [
       "                       item_visibility\n",
       "item_type                             \n",
       "Breakfast                     0.085723\n",
       "Seafood                       0.074976\n",
       "Dairy                         0.072427\n",
       "Baking Goods                  0.069169\n",
       "Fruits and Vegetables         0.068513\n",
       "Canned                        0.068129\n",
       "Starchy Foods                 0.067564\n",
       "Snack Foods                   0.066850\n",
       "Breads                        0.066255\n",
       "Frozen Foods                  0.065645\n",
       "Hard Drinks                   0.064943\n",
       "Soft Drinks                   0.063972\n",
       "Meat                          0.062284\n",
       "Household                     0.061322\n",
       "Others                        0.060241\n",
       "Health and Hygiene            0.055216"
      ]
     },
     "execution_count": 55,
     "metadata": {},
     "output_type": "execute_result"
    }
   ],
   "source": [
    "# item lowfat dengan visibilty tertinggi \n",
    "df_vis = df.loc[:,['item_type','item_visibility']].groupby('item_type').mean()\n",
    "df_vis = df.loc[:,['item_type','item_visibility']].groupby('item_type').mean()\n",
    "df_vis = df.loc[:,['item_type','item_visibility']].groupby('item_type').mean()\n",
    "\n",
    "\n",
    "df_vis.sort_values(by = 'item_visibility', ascending=False)\n"
   ]
  },
  {
   "cell_type": "code",
   "execution_count": 56,
   "metadata": {},
   "outputs": [
    {
     "data": {
      "image/png": "[encoded data removed]",
      "text/plain": [
       "<Figure size 2000x500 with 1 Axes>"
      ]
     },
     "metadata": {},
     "output_type": "display_data"
    }
   ],
   "source": [
    "# pembuatan pie chart untuk visibilitas produk \n",
    "\n",
    "x = df_vis['item_visibility'].tolist()\n",
    "labels = df_vis.index.tolist()\n",
    "data = df_vis\n",
    "textprops = {\"fontsize\":9}\n",
    "plt.figure(figsize=(20,5))\n",
    "plt.pie(x= x,data= data , labels = labels , colors = sns.color_palette('pastel') , autopct='%.2f%%', textprops =textprops)     \n",
    "plt.title('Perbandingan Rata-Rata seluruh visibility produk di toko \\n\\n')\n",
    "plt.show()"
   ]
  },
  {
   "attachments": {},
   "cell_type": "markdown",
   "metadata": {},
   "source": [
    "**Insight**\n",
    "\n",
    "- Rata rata produk yang memiliki visibilitas yang paling tinggi adalah kategori breakfast dengan 8% lalu yang paling rendah visibilitas nya adalah health and hygiene.\n",
    "- Kemungkinan besar dimensi produk health and hygiene lebih kecil dan breakfast lebih tinggi, contohnya hygiene : shampoo, sabun, sikat gigi dll."
   ]
  },
  {
   "attachments": {},
   "cell_type": "markdown",
   "metadata": {},
   "source": [
    "### 4. Presentase Trend Revenue Penjualan menurut kategori kandungan lemak"
   ]
  },
  {
   "cell_type": "code",
   "execution_count": 57,
   "metadata": {},
   "outputs": [
    {
     "data": {
      "text/html": [
       "<div>\n",
       "<style scoped>\n",
       "    .dataframe tbody tr th:only-of-type {\n",
       "        vertical-align: middle;\n",
       "    }\n",
       "\n",
       "    .dataframe tbody tr th {\n",
       "        vertical-align: top;\n",
       "    }\n",
       "\n",
       "    .dataframe thead th {\n",
       "        text-align: right;\n",
       "    }\n",
       "</style>\n",
       "<table border=\"1\" class=\"dataframe\">\n",
       "  <thead>\n",
       "    <tr style=\"text-align: right;\">\n",
       "      <th></th>\n",
       "      <th>item_identifier</th>\n",
       "      <th>item_weight</th>\n",
       "      <th>item_type</th>\n",
       "      <th>item_fat_content</th>\n",
       "      <th>item_mrp</th>\n",
       "      <th>item_visibility</th>\n",
       "      <th>outlet_identifier</th>\n",
       "      <th>outlet_establishment_year</th>\n",
       "      <th>outlet_size_str</th>\n",
       "      <th>outlet_size_num</th>\n",
       "      <th>outlet_location_type</th>\n",
       "      <th>outlet_type</th>\n",
       "      <th>item_outlet_sales</th>\n",
       "      <th>outlet_item_revenue</th>\n",
       "    </tr>\n",
       "    <tr>\n",
       "      <th>index</th>\n",
       "      <th></th>\n",
       "      <th></th>\n",
       "      <th></th>\n",
       "      <th></th>\n",
       "      <th></th>\n",
       "      <th></th>\n",
       "      <th></th>\n",
       "      <th></th>\n",
       "      <th></th>\n",
       "      <th></th>\n",
       "      <th></th>\n",
       "      <th></th>\n",
       "      <th></th>\n",
       "      <th></th>\n",
       "    </tr>\n",
       "  </thead>\n",
       "  <tbody>\n",
       "    <tr>\n",
       "      <th>0</th>\n",
       "      <td>FDA15</td>\n",
       "      <td>9.30</td>\n",
       "      <td>Dairy</td>\n",
       "      <td>Low Fat</td>\n",
       "      <td>249.8092</td>\n",
       "      <td>0.016047</td>\n",
       "      <td>OUT049</td>\n",
       "      <td>1999</td>\n",
       "      <td>medium</td>\n",
       "      <td>2</td>\n",
       "      <td>Tier 1</td>\n",
       "      <td>Supermarket Type1</td>\n",
       "      <td>3735.1380</td>\n",
       "      <td>933071.84</td>\n",
       "    </tr>\n",
       "    <tr>\n",
       "      <th>1</th>\n",
       "      <td>DRC01</td>\n",
       "      <td>5.92</td>\n",
       "      <td>Soft Drinks</td>\n",
       "      <td>Regular</td>\n",
       "      <td>48.2692</td>\n",
       "      <td>0.019278</td>\n",
       "      <td>OUT018</td>\n",
       "      <td>2009</td>\n",
       "      <td>medium</td>\n",
       "      <td>2</td>\n",
       "      <td>Tier 3</td>\n",
       "      <td>Supermarket Type2</td>\n",
       "      <td>443.4228</td>\n",
       "      <td>21403.66</td>\n",
       "    </tr>\n",
       "    <tr>\n",
       "      <th>2</th>\n",
       "      <td>FDN15</td>\n",
       "      <td>17.50</td>\n",
       "      <td>Meat</td>\n",
       "      <td>Low Fat</td>\n",
       "      <td>141.6180</td>\n",
       "      <td>0.016760</td>\n",
       "      <td>OUT049</td>\n",
       "      <td>1999</td>\n",
       "      <td>medium</td>\n",
       "      <td>2</td>\n",
       "      <td>Tier 1</td>\n",
       "      <td>Supermarket Type1</td>\n",
       "      <td>2097.2700</td>\n",
       "      <td>297011.18</td>\n",
       "    </tr>\n",
       "  </tbody>\n",
       "</table>\n",
       "</div>"
      ],
      "text/plain": [
       "      item_identifier  item_weight    item_type item_fat_content  item_mrp  \\\n",
       "index                                                                        \n",
       "0               FDA15         9.30        Dairy          Low Fat  249.8092   \n",
       "1               DRC01         5.92  Soft Drinks          Regular   48.2692   \n",
       "2               FDN15        17.50         Meat          Low Fat  141.6180   \n",
       "\n",
       "       item_visibility outlet_identifier  outlet_establishment_year  \\\n",
       "index                                                                 \n",
       "0             0.016047            OUT049                       1999   \n",
       "1             0.019278            OUT018                       2009   \n",
       "2             0.016760            OUT049                       1999   \n",
       "\n",
       "      outlet_size_str  outlet_size_num outlet_location_type  \\\n",
       "index                                                         \n",
       "0              medium                2               Tier 1   \n",
       "1              medium                2               Tier 3   \n",
       "2              medium                2               Tier 1   \n",
       "\n",
       "             outlet_type  item_outlet_sales  outlet_item_revenue  \n",
       "index                                                             \n",
       "0      Supermarket Type1          3735.1380            933071.84  \n",
       "1      Supermarket Type2           443.4228             21403.66  \n",
       "2      Supermarket Type1          2097.2700            297011.18  "
      ]
     },
     "execution_count": 57,
     "metadata": {},
     "output_type": "execute_result"
    }
   ],
   "source": [
    "df.head(3)"
   ]
  },
  {
   "cell_type": "code",
   "execution_count": 58,
   "metadata": {},
   "outputs": [
    {
     "data": {
      "text/plain": [
       "array(['Low Fat', 'Regular', 'low fat', 'LF', 'reg'], dtype=object)"
      ]
     },
     "execution_count": 58,
     "metadata": {},
     "output_type": "execute_result"
    }
   ],
   "source": [
    "# value unique jenis kadar lemak\n",
    "df.item_fat_content.unique()"
   ]
  },
  {
   "cell_type": "code",
   "execution_count": 59,
   "metadata": {},
   "outputs": [
    {
     "data": {
      "text/plain": [
       "array(['Low Fat', 'Regular'], dtype=object)"
      ]
     },
     "execution_count": 59,
     "metadata": {},
     "output_type": "execute_result"
    }
   ],
   "source": [
    "# merubah LF dan reg menjadi Lowfat dan Regular supaya simple\n",
    "df.item_fat_content = df.item_fat_content.replace(['LF','reg','low fat'], ['Low Fat','Regular','Low Fat'])\n",
    "\n",
    "df.item_fat_content.unique()"
   ]
  },
  {
   "cell_type": "code",
   "execution_count": 60,
   "metadata": {},
   "outputs": [
    {
     "name": "stdout",
     "output_type": "stream",
     "text": [
      "Total revenue penjualan low fat produk pada tahun 2000 adalah     :  11904094.533\n",
      "Total revenue penjualan regular fat produk pada tahun 2000 adalah :  6687030.877400001\n"
     ]
    }
   ],
   "source": [
    "# total revenue penjualan fat product di tahun 2000\n",
    "df_lowfat =df[df['item_fat_content']=='Low Fat']\n",
    "df_regularfat =df[df['item_fat_content']=='Regular']\n",
    "\n",
    "print('Total revenue penjualan low fat produk pada tahun 2000 adalah     : ',df_lowfat[(df_lowfat.outlet_establishment_year >= 1985) & (df_lowfat.outlet_establishment_year <= 2009)].item_outlet_sales.sum() )\n",
    "print('Total revenue penjualan regular fat produk pada tahun 2000 adalah : ',df_regularfat[(df_regularfat.outlet_establishment_year >= 1985) & (df_regularfat.outlet_establishment_year <= 2009)].item_outlet_sales.sum())"
   ]
  },
  {
   "cell_type": "code",
   "execution_count": 61,
   "metadata": {},
   "outputs": [
    {
     "data": {
      "image/png": "[encoded data removed]",
      "text/plain": [
       "<Figure size 640x480 with 1 Axes>"
      ]
     },
     "metadata": {},
     "output_type": "display_data"
    }
   ],
   "source": [
    "# pembuatan pie chart \n",
    "\n",
    "pie_fat = [11904094.533,6687030.877400001] # diambil dari perhitungan cell sebelumnya\n",
    "\n",
    "\n",
    "labels = 'Low Fat', 'Regular Fat'\n",
    "sizes = pie_fat\n",
    "explode = (0.1, 0)  \n",
    "\n",
    "fig1, ax1 = plt.subplots()\n",
    "ax1.pie(sizes, explode =explode, labels=labels, autopct='%1.1f%%',\n",
    "        shadow=True, startangle=90)\n",
    "ax1.axis('equal')  \n",
    "ax1.set_title('Pembagian Penjualan dari Fat Category')\n",
    "\n",
    "plt.show()"
   ]
  },
  {
   "attachments": {},
   "cell_type": "markdown",
   "metadata": {},
   "source": [
    "**Insight**\n",
    "\n",
    "- Dari Seluruh revenue yang didapat dari semua outlet pada tahun 2013, item dengan kadar fat rendah ialah item dengan kategori paling banyak menghasilkan revenue\n",
    "- Ini bisa menjadi rujukan potensi bagi Big Mart"
   ]
  },
  {
   "attachments": {},
   "cell_type": "markdown",
   "metadata": {},
   "source": [
    "### 5. Supermarket tipe apa yang menjual item lowfat terbanyak?"
   ]
  },
  {
   "cell_type": "code",
   "execution_count": 62,
   "metadata": {},
   "outputs": [
    {
     "data": {
      "text/html": [
       "<div>\n",
       "<style scoped>\n",
       "    .dataframe tbody tr th:only-of-type {\n",
       "        vertical-align: middle;\n",
       "    }\n",
       "\n",
       "    .dataframe tbody tr th {\n",
       "        vertical-align: top;\n",
       "    }\n",
       "\n",
       "    .dataframe thead th {\n",
       "        text-align: right;\n",
       "    }\n",
       "</style>\n",
       "<table border=\"1\" class=\"dataframe\">\n",
       "  <thead>\n",
       "    <tr style=\"text-align: right;\">\n",
       "      <th></th>\n",
       "      <th>item_identifier</th>\n",
       "      <th>item_weight</th>\n",
       "      <th>item_type</th>\n",
       "      <th>item_fat_content</th>\n",
       "      <th>item_mrp</th>\n",
       "      <th>item_visibility</th>\n",
       "      <th>outlet_identifier</th>\n",
       "      <th>outlet_establishment_year</th>\n",
       "      <th>outlet_size_str</th>\n",
       "      <th>outlet_size_num</th>\n",
       "      <th>outlet_location_type</th>\n",
       "      <th>outlet_type</th>\n",
       "      <th>item_outlet_sales</th>\n",
       "      <th>outlet_item_revenue</th>\n",
       "    </tr>\n",
       "    <tr>\n",
       "      <th>index</th>\n",
       "      <th></th>\n",
       "      <th></th>\n",
       "      <th></th>\n",
       "      <th></th>\n",
       "      <th></th>\n",
       "      <th></th>\n",
       "      <th></th>\n",
       "      <th></th>\n",
       "      <th></th>\n",
       "      <th></th>\n",
       "      <th></th>\n",
       "      <th></th>\n",
       "      <th></th>\n",
       "      <th></th>\n",
       "    </tr>\n",
       "  </thead>\n",
       "  <tbody>\n",
       "    <tr>\n",
       "      <th>0</th>\n",
       "      <td>FDA15</td>\n",
       "      <td>9.30</td>\n",
       "      <td>Dairy</td>\n",
       "      <td>Low Fat</td>\n",
       "      <td>249.8092</td>\n",
       "      <td>0.016047</td>\n",
       "      <td>OUT049</td>\n",
       "      <td>1999</td>\n",
       "      <td>medium</td>\n",
       "      <td>2</td>\n",
       "      <td>Tier 1</td>\n",
       "      <td>Supermarket Type1</td>\n",
       "      <td>3735.1380</td>\n",
       "      <td>933071.84</td>\n",
       "    </tr>\n",
       "    <tr>\n",
       "      <th>1</th>\n",
       "      <td>DRC01</td>\n",
       "      <td>5.92</td>\n",
       "      <td>Soft Drinks</td>\n",
       "      <td>Regular</td>\n",
       "      <td>48.2692</td>\n",
       "      <td>0.019278</td>\n",
       "      <td>OUT018</td>\n",
       "      <td>2009</td>\n",
       "      <td>medium</td>\n",
       "      <td>2</td>\n",
       "      <td>Tier 3</td>\n",
       "      <td>Supermarket Type2</td>\n",
       "      <td>443.4228</td>\n",
       "      <td>21403.66</td>\n",
       "    </tr>\n",
       "    <tr>\n",
       "      <th>2</th>\n",
       "      <td>FDN15</td>\n",
       "      <td>17.50</td>\n",
       "      <td>Meat</td>\n",
       "      <td>Low Fat</td>\n",
       "      <td>141.6180</td>\n",
       "      <td>0.016760</td>\n",
       "      <td>OUT049</td>\n",
       "      <td>1999</td>\n",
       "      <td>medium</td>\n",
       "      <td>2</td>\n",
       "      <td>Tier 1</td>\n",
       "      <td>Supermarket Type1</td>\n",
       "      <td>2097.2700</td>\n",
       "      <td>297011.18</td>\n",
       "    </tr>\n",
       "  </tbody>\n",
       "</table>\n",
       "</div>"
      ],
      "text/plain": [
       "      item_identifier  item_weight    item_type item_fat_content  item_mrp  \\\n",
       "index                                                                        \n",
       "0               FDA15         9.30        Dairy          Low Fat  249.8092   \n",
       "1               DRC01         5.92  Soft Drinks          Regular   48.2692   \n",
       "2               FDN15        17.50         Meat          Low Fat  141.6180   \n",
       "\n",
       "       item_visibility outlet_identifier  outlet_establishment_year  \\\n",
       "index                                                                 \n",
       "0             0.016047            OUT049                       1999   \n",
       "1             0.019278            OUT018                       2009   \n",
       "2             0.016760            OUT049                       1999   \n",
       "\n",
       "      outlet_size_str  outlet_size_num outlet_location_type  \\\n",
       "index                                                         \n",
       "0              medium                2               Tier 1   \n",
       "1              medium                2               Tier 3   \n",
       "2              medium                2               Tier 1   \n",
       "\n",
       "             outlet_type  item_outlet_sales  outlet_item_revenue  \n",
       "index                                                             \n",
       "0      Supermarket Type1          3735.1380            933071.84  \n",
       "1      Supermarket Type2           443.4228             21403.66  \n",
       "2      Supermarket Type1          2097.2700            297011.18  "
      ]
     },
     "execution_count": 62,
     "metadata": {},
     "output_type": "execute_result"
    }
   ],
   "source": [
    "df.head(3) "
   ]
  },
  {
   "cell_type": "code",
   "execution_count": 63,
   "metadata": {},
   "outputs": [
    {
     "data": {
      "text/plain": [
       "array(['Tier 1', 'Tier 3', 'Tier 2'], dtype=object)"
      ]
     },
     "execution_count": 63,
     "metadata": {},
     "output_type": "execute_result"
    }
   ],
   "source": [
    "df.outlet_location_type.unique()"
   ]
  },
  {
   "cell_type": "code",
   "execution_count": 64,
   "metadata": {},
   "outputs": [
    {
     "data": {
      "text/html": [
       "<div>\n",
       "<style scoped>\n",
       "    .dataframe tbody tr th:only-of-type {\n",
       "        vertical-align: middle;\n",
       "    }\n",
       "\n",
       "    .dataframe tbody tr th {\n",
       "        vertical-align: top;\n",
       "    }\n",
       "\n",
       "    .dataframe thead th {\n",
       "        text-align: right;\n",
       "    }\n",
       "</style>\n",
       "<table border=\"1\" class=\"dataframe\">\n",
       "  <thead>\n",
       "    <tr style=\"text-align: right;\">\n",
       "      <th></th>\n",
       "      <th>item_type</th>\n",
       "    </tr>\n",
       "    <tr>\n",
       "      <th>outlet_type</th>\n",
       "      <th></th>\n",
       "    </tr>\n",
       "  </thead>\n",
       "  <tbody>\n",
       "    <tr>\n",
       "      <th>Grocery Store</th>\n",
       "      <td>705</td>\n",
       "    </tr>\n",
       "    <tr>\n",
       "      <th>Supermarket Type1</th>\n",
       "      <td>3609</td>\n",
       "    </tr>\n",
       "    <tr>\n",
       "      <th>Supermarket Type2</th>\n",
       "      <td>598</td>\n",
       "    </tr>\n",
       "    <tr>\n",
       "      <th>Supermarket Type3</th>\n",
       "      <td>605</td>\n",
       "    </tr>\n",
       "  </tbody>\n",
       "</table>\n",
       "</div>"
      ],
      "text/plain": [
       "                   item_type\n",
       "outlet_type                 \n",
       "Grocery Store            705\n",
       "Supermarket Type1       3609\n",
       "Supermarket Type2        598\n",
       "Supermarket Type3        605"
      ]
     },
     "execution_count": 64,
     "metadata": {},
     "output_type": "execute_result"
    }
   ],
   "source": [
    "df_lowfat_sm_type = df_lowfat.loc[:,['item_type','outlet_type']].groupby('outlet_type').count() \n",
    "\n",
    "df_lowfat_sm_type\n"
   ]
  },
  {
   "cell_type": "code",
   "execution_count": 65,
   "metadata": {},
   "outputs": [
    {
     "data": {
      "image/png": "[encoded data removed]",
      "text/plain": [
       "<Figure size 640x480 with 1 Axes>"
      ]
     },
     "metadata": {},
     "output_type": "display_data"
    }
   ],
   "source": [
    "df_lowfat_sm_type.plot(kind=('bar'))\n",
    "plt.xticks(rotation = 20, labels=None)\n",
    "plt.xlabel('')\n",
    "plt.show()"
   ]
  },
  {
   "attachments": {},
   "cell_type": "markdown",
   "metadata": {},
   "source": [
    "**Insight**\n",
    "\n",
    "Di supermarket type 1 ternyata banyak sekali produk lowfat yang dijual dari berbagai macam tipe. Ini juga selaras dengan rata rata penjualan per supermarket diaman supermatket 1 memiliki penjualan terbanyak.\n",
    "Korelasi poin ini adalah, ternyata di toko pun, memang produk kategori lowfat menjadi barang paling banyak variasinya dan jumlah penjualaannya."
   ]
  },
  {
   "attachments": {},
   "cell_type": "markdown",
   "metadata": {},
   "source": [
    "### 6. Bagaimana korelasi antara penjualan dan harga maksimum dari suatu kategori item?"
   ]
  },
  {
   "cell_type": "code",
   "execution_count": 66,
   "metadata": {},
   "outputs": [
    {
     "data": {
      "text/html": [
       "<div>\n",
       "<style scoped>\n",
       "    .dataframe tbody tr th:only-of-type {\n",
       "        vertical-align: middle;\n",
       "    }\n",
       "\n",
       "    .dataframe tbody tr th {\n",
       "        vertical-align: top;\n",
       "    }\n",
       "\n",
       "    .dataframe thead th {\n",
       "        text-align: right;\n",
       "    }\n",
       "</style>\n",
       "<table border=\"1\" class=\"dataframe\">\n",
       "  <thead>\n",
       "    <tr style=\"text-align: right;\">\n",
       "      <th></th>\n",
       "      <th>item_mrp</th>\n",
       "      <th>item_outlet_sales</th>\n",
       "    </tr>\n",
       "    <tr>\n",
       "      <th>item_type</th>\n",
       "      <th></th>\n",
       "      <th></th>\n",
       "    </tr>\n",
       "  </thead>\n",
       "  <tbody>\n",
       "    <tr>\n",
       "      <th>Baking Goods</th>\n",
       "      <td>126.380766</td>\n",
       "      <td>1952.971207</td>\n",
       "    </tr>\n",
       "    <tr>\n",
       "      <th>Breads</th>\n",
       "      <td>140.952669</td>\n",
       "      <td>2204.132226</td>\n",
       "    </tr>\n",
       "    <tr>\n",
       "      <th>Breakfast</th>\n",
       "      <td>141.788151</td>\n",
       "      <td>2111.808651</td>\n",
       "    </tr>\n",
       "    <tr>\n",
       "      <th>Canned</th>\n",
       "      <td>139.763832</td>\n",
       "      <td>2225.194904</td>\n",
       "    </tr>\n",
       "    <tr>\n",
       "      <th>Dairy</th>\n",
       "      <td>148.499208</td>\n",
       "      <td>2232.542597</td>\n",
       "    </tr>\n",
       "    <tr>\n",
       "      <th>Frozen Foods</th>\n",
       "      <td>138.503366</td>\n",
       "      <td>2132.867744</td>\n",
       "    </tr>\n",
       "    <tr>\n",
       "      <th>Fruits and Vegetables</th>\n",
       "      <td>144.581235</td>\n",
       "      <td>2289.009592</td>\n",
       "    </tr>\n",
       "    <tr>\n",
       "      <th>Hard Drinks</th>\n",
       "      <td>137.077928</td>\n",
       "      <td>2139.221622</td>\n",
       "    </tr>\n",
       "    <tr>\n",
       "      <th>Health and Hygiene</th>\n",
       "      <td>130.818921</td>\n",
       "      <td>2010.000265</td>\n",
       "    </tr>\n",
       "    <tr>\n",
       "      <th>Household</th>\n",
       "      <td>149.424753</td>\n",
       "      <td>2258.784300</td>\n",
       "    </tr>\n",
       "    <tr>\n",
       "      <th>Meat</th>\n",
       "      <td>139.882032</td>\n",
       "      <td>2158.977911</td>\n",
       "    </tr>\n",
       "    <tr>\n",
       "      <th>Others</th>\n",
       "      <td>132.851430</td>\n",
       "      <td>1926.139702</td>\n",
       "    </tr>\n",
       "    <tr>\n",
       "      <th>Seafood</th>\n",
       "      <td>141.841719</td>\n",
       "      <td>2326.065928</td>\n",
       "    </tr>\n",
       "    <tr>\n",
       "      <th>Snack Foods</th>\n",
       "      <td>146.194934</td>\n",
       "      <td>2277.321739</td>\n",
       "    </tr>\n",
       "    <tr>\n",
       "      <th>Soft Drinks</th>\n",
       "      <td>131.492506</td>\n",
       "      <td>2006.511735</td>\n",
       "    </tr>\n",
       "    <tr>\n",
       "      <th>Starchy Foods</th>\n",
       "      <td>147.838023</td>\n",
       "      <td>2374.332773</td>\n",
       "    </tr>\n",
       "  </tbody>\n",
       "</table>\n",
       "</div>"
      ],
      "text/plain": [
       "                         item_mrp  item_outlet_sales\n",
       "item_type                                           \n",
       "Baking Goods           126.380766        1952.971207\n",
       "Breads                 140.952669        2204.132226\n",
       "Breakfast              141.788151        2111.808651\n",
       "Canned                 139.763832        2225.194904\n",
       "Dairy                  148.499208        2232.542597\n",
       "Frozen Foods           138.503366        2132.867744\n",
       "Fruits and Vegetables  144.581235        2289.009592\n",
       "Hard Drinks            137.077928        2139.221622\n",
       "Health and Hygiene     130.818921        2010.000265\n",
       "Household              149.424753        2258.784300\n",
       "Meat                   139.882032        2158.977911\n",
       "Others                 132.851430        1926.139702\n",
       "Seafood                141.841719        2326.065928\n",
       "Snack Foods            146.194934        2277.321739\n",
       "Soft Drinks            131.492506        2006.511735\n",
       "Starchy Foods          147.838023        2374.332773"
      ]
     },
     "execution_count": 66,
     "metadata": {},
     "output_type": "execute_result"
    }
   ],
   "source": [
    "df_6 = df.loc[:,('item_mrp','item_outlet_sales','item_type')].groupby('item_type').mean()\n",
    "\n",
    "df_6"
   ]
  },
  {
   "cell_type": "code",
   "execution_count": 67,
   "metadata": {},
   "outputs": [
    {
     "data": {
      "text/plain": [
       "<AxesSubplot:xlabel='item_mrp', ylabel='item_outlet_sales'>"
      ]
     },
     "execution_count": 67,
     "metadata": {},
     "output_type": "execute_result"
    },
    {
     "data": {
      "image/png": "[encoded data removed]",
      "text/plain": [
       "<Figure size 1500x800 with 1 Axes>"
      ]
     },
     "metadata": {},
     "output_type": "display_data"
    }
   ],
   "source": [
    "# plotting scatter plot korelasi antara harga barang dengan penjualan\n",
    "\n",
    "fig= plt.subplots(figsize=(15, 8))\n",
    "\n",
    "sns.scatterplot(data=df_6, x='item_mrp', y= 'item_outlet_sales', hue='item_type',palette=\"deep\", size=('item_outlet_sales'), sizes=(100,300))"
   ]
  },
  {
   "attachments": {},
   "cell_type": "markdown",
   "metadata": {},
   "source": [
    "**Insight**\n",
    "\n",
    "Dari scatter plot ini dapat disimpulkan bahwa adanya korelasi yang cukup tinggi dari harga item maksimum retail (item_mrp) dan penjualan di seluruh outllet. \n",
    "\n",
    "Semakin tinggi harga maksimum suatu item semakin tinggi pula tingkat penjualannya\n"
   ]
  },
  {
   "cell_type": "code",
   "execution_count": 68,
   "metadata": {},
   "outputs": [
    {
     "data": {
      "text/html": [
       "<div>\n",
       "<style scoped>\n",
       "    .dataframe tbody tr th:only-of-type {\n",
       "        vertical-align: middle;\n",
       "    }\n",
       "\n",
       "    .dataframe tbody tr th {\n",
       "        vertical-align: top;\n",
       "    }\n",
       "\n",
       "    .dataframe thead th {\n",
       "        text-align: right;\n",
       "    }\n",
       "</style>\n",
       "<table border=\"1\" class=\"dataframe\">\n",
       "  <thead>\n",
       "    <tr style=\"text-align: right;\">\n",
       "      <th></th>\n",
       "      <th>item_mrp</th>\n",
       "      <th>item_outlet_sales</th>\n",
       "    </tr>\n",
       "    <tr>\n",
       "      <th>item_type</th>\n",
       "      <th></th>\n",
       "      <th></th>\n",
       "    </tr>\n",
       "  </thead>\n",
       "  <tbody>\n",
       "    <tr>\n",
       "      <th>Baking Goods</th>\n",
       "      <td>126.380766</td>\n",
       "      <td>1952.971207</td>\n",
       "    </tr>\n",
       "    <tr>\n",
       "      <th>Breads</th>\n",
       "      <td>140.952669</td>\n",
       "      <td>2204.132226</td>\n",
       "    </tr>\n",
       "    <tr>\n",
       "      <th>Breakfast</th>\n",
       "      <td>141.788151</td>\n",
       "      <td>2111.808651</td>\n",
       "    </tr>\n",
       "    <tr>\n",
       "      <th>Canned</th>\n",
       "      <td>139.763832</td>\n",
       "      <td>2225.194904</td>\n",
       "    </tr>\n",
       "    <tr>\n",
       "      <th>Dairy</th>\n",
       "      <td>148.499208</td>\n",
       "      <td>2232.542597</td>\n",
       "    </tr>\n",
       "    <tr>\n",
       "      <th>Frozen Foods</th>\n",
       "      <td>138.503366</td>\n",
       "      <td>2132.867744</td>\n",
       "    </tr>\n",
       "    <tr>\n",
       "      <th>Fruits and Vegetables</th>\n",
       "      <td>144.581235</td>\n",
       "      <td>2289.009592</td>\n",
       "    </tr>\n",
       "    <tr>\n",
       "      <th>Hard Drinks</th>\n",
       "      <td>137.077928</td>\n",
       "      <td>2139.221622</td>\n",
       "    </tr>\n",
       "    <tr>\n",
       "      <th>Health and Hygiene</th>\n",
       "      <td>130.818921</td>\n",
       "      <td>2010.000265</td>\n",
       "    </tr>\n",
       "    <tr>\n",
       "      <th>Household</th>\n",
       "      <td>149.424753</td>\n",
       "      <td>2258.784300</td>\n",
       "    </tr>\n",
       "    <tr>\n",
       "      <th>Meat</th>\n",
       "      <td>139.882032</td>\n",
       "      <td>2158.977911</td>\n",
       "    </tr>\n",
       "    <tr>\n",
       "      <th>Others</th>\n",
       "      <td>132.851430</td>\n",
       "      <td>1926.139702</td>\n",
       "    </tr>\n",
       "    <tr>\n",
       "      <th>Seafood</th>\n",
       "      <td>141.841719</td>\n",
       "      <td>2326.065928</td>\n",
       "    </tr>\n",
       "    <tr>\n",
       "      <th>Snack Foods</th>\n",
       "      <td>146.194934</td>\n",
       "      <td>2277.321739</td>\n",
       "    </tr>\n",
       "    <tr>\n",
       "      <th>Soft Drinks</th>\n",
       "      <td>131.492506</td>\n",
       "      <td>2006.511735</td>\n",
       "    </tr>\n",
       "    <tr>\n",
       "      <th>Starchy Foods</th>\n",
       "      <td>147.838023</td>\n",
       "      <td>2374.332773</td>\n",
       "    </tr>\n",
       "  </tbody>\n",
       "</table>\n",
       "</div>"
      ],
      "text/plain": [
       "                         item_mrp  item_outlet_sales\n",
       "item_type                                           \n",
       "Baking Goods           126.380766        1952.971207\n",
       "Breads                 140.952669        2204.132226\n",
       "Breakfast              141.788151        2111.808651\n",
       "Canned                 139.763832        2225.194904\n",
       "Dairy                  148.499208        2232.542597\n",
       "Frozen Foods           138.503366        2132.867744\n",
       "Fruits and Vegetables  144.581235        2289.009592\n",
       "Hard Drinks            137.077928        2139.221622\n",
       "Health and Hygiene     130.818921        2010.000265\n",
       "Household              149.424753        2258.784300\n",
       "Meat                   139.882032        2158.977911\n",
       "Others                 132.851430        1926.139702\n",
       "Seafood                141.841719        2326.065928\n",
       "Snack Foods            146.194934        2277.321739\n",
       "Soft Drinks            131.492506        2006.511735\n",
       "Starchy Foods          147.838023        2374.332773"
      ]
     },
     "execution_count": 68,
     "metadata": {},
     "output_type": "execute_result"
    }
   ],
   "source": [
    "# membuat dataframe korelasi\n",
    "\n",
    "df_corr_count_qty = df.loc[:,['item_mrp','item_outlet_sales','item_type']].groupby('item_type').mean() \n",
    "\n",
    "df_corr_count_qty"
   ]
  },
  {
   "cell_type": "code",
   "execution_count": 69,
   "metadata": {},
   "outputs": [
    {
     "name": "stdout",
     "output_type": "stream",
     "text": [
      "Korelasi antara harga max item dan penjualan adalah  : 0.879505745982249\n"
     ]
    }
   ],
   "source": [
    "# menghitung korelasi antara harga max item dan tingkat penjualannya\n",
    "\n",
    "print('Korelasi antara harga max item dan penjualan adalah  :', df_corr_count_qty.item_outlet_sales.corr(df_corr_count_qty.item_mrp))"
   ]
  },
  {
   "attachments": {},
   "cell_type": "markdown",
   "metadata": {},
   "source": [
    "**Insight** \n",
    "\n",
    "- Terlihat dari total rata rata penjualan item yang tersebar disetiap toko dan harga maksimum sepertinya memang berkorelasi positif, jadi tingginya harga maksimum tidak menyebabkan adanya penurunan penjualan secara umum. "
   ]
  },
  {
   "attachments": {},
   "cell_type": "markdown",
   "metadata": {},
   "source": [
    "## Kesimpulan"
   ]
  },
  {
   "attachments": {},
   "cell_type": "markdown",
   "metadata": {},
   "source": [
    "- Kesimpulan :\n",
    "\n",
    "    - Pada poin pertama, ada keterkaitan antara penjualan dan jenis toko, namun keterkaitan antara penjualan dan lokasi kota maupun ukuran toko tidak terlihat signifikan.\n",
    "\n",
    "    - Untuk mempertajam analisa maka kita buat dipoin ke 2 yaitu korelasi antara varaisi produk dan total penjualannya. Yang menarik adalah porduk dengan kategori seafood dan starchy food. Walaupun memiliki tingkat variasi yang rendah, namun tingkat penjualannya rata rata tinggi. Ini juga bisa menjadi poin penting untuk toko.\n",
    "    - Poin ketiga adalah analisis visibilitas. Dari sini bisa kita dapatkan kesimpulan kalau visibilitas produk memang berbeda namun tidak terlalu signifikan. Poin menariknya adalah penjualan rata rata tertinggi adalah bagian starchy food, namun visibilitas produk tidak teralu signifikan. Ini menandakan adanya potensi yang bisa dimanfaatkan juga poin untuk toko.\n",
    "    - Lalu dilanjutkan untuk untuk analisa tingkat lemak dan penjualan, ternyata selama tahun 2013 ini, penjualan yang paling banyak dibeli adalah barang barang dengan kategori rendah lemak. Ini bisa dijadikan rujukan trend untuk memprediksi penjualan kedepan\n",
    "\n",
    "    - Dilanjutkan dengan analisa : supermarket mana yang memilikipenjualan lowfat terbanyak, dan jawabannya adalah supermarket tipe 1. Ini sekaligus membuktikan kalau supermarket dengan penjualan terbanyak, juga memiliki trend yang sama yaitu penjualan item dengan tingkat lemak rendah.\n",
    "\n",
    "    - Dan kemudian, pada analisa korelasi antar penjualan dan harga maksimum, didapat bahwa justru adanya korelasi positif antara tingkat penjualan dan harga maksimum retail. Poin ini sangat berarti bagi toko, karena secara tidak langsung dapat memberikan insight untuk mereview kembali harga harga yang ada."
   ]
  },
  {
   "attachments": {},
   "cell_type": "markdown",
   "metadata": {},
   "source": [
    "## Inferential Statistics"
   ]
  },
  {
   "attachments": {},
   "cell_type": "markdown",
   "metadata": {},
   "source": [
    "1. Nah sekarang jikalau kita harus menentukan rata rata kenaikan harga, sampai mana batas harga yang bisa diseut \"kenaikan\"\n",
    " - kita bisa jawab ini dengan menggunakan konsep confidence interval dari inferential statistics"
   ]
  },
  {
   "cell_type": "code",
   "execution_count": 70,
   "metadata": {},
   "outputs": [
    {
     "data": {
      "text/html": [
       "<div>\n",
       "<style scoped>\n",
       "    .dataframe tbody tr th:only-of-type {\n",
       "        vertical-align: middle;\n",
       "    }\n",
       "\n",
       "    .dataframe tbody tr th {\n",
       "        vertical-align: top;\n",
       "    }\n",
       "\n",
       "    .dataframe thead th {\n",
       "        text-align: right;\n",
       "    }\n",
       "</style>\n",
       "<table border=\"1\" class=\"dataframe\">\n",
       "  <thead>\n",
       "    <tr style=\"text-align: right;\">\n",
       "      <th></th>\n",
       "      <th>item_identifier</th>\n",
       "      <th>item_weight</th>\n",
       "      <th>item_type</th>\n",
       "      <th>item_fat_content</th>\n",
       "      <th>item_mrp</th>\n",
       "      <th>item_visibility</th>\n",
       "      <th>outlet_identifier</th>\n",
       "      <th>outlet_establishment_year</th>\n",
       "      <th>outlet_size_str</th>\n",
       "      <th>outlet_size_num</th>\n",
       "      <th>outlet_location_type</th>\n",
       "      <th>outlet_type</th>\n",
       "      <th>item_outlet_sales</th>\n",
       "      <th>outlet_item_revenue</th>\n",
       "    </tr>\n",
       "    <tr>\n",
       "      <th>index</th>\n",
       "      <th></th>\n",
       "      <th></th>\n",
       "      <th></th>\n",
       "      <th></th>\n",
       "      <th></th>\n",
       "      <th></th>\n",
       "      <th></th>\n",
       "      <th></th>\n",
       "      <th></th>\n",
       "      <th></th>\n",
       "      <th></th>\n",
       "      <th></th>\n",
       "      <th></th>\n",
       "      <th></th>\n",
       "    </tr>\n",
       "  </thead>\n",
       "  <tbody>\n",
       "    <tr>\n",
       "      <th>0</th>\n",
       "      <td>FDA15</td>\n",
       "      <td>9.30</td>\n",
       "      <td>Dairy</td>\n",
       "      <td>Low Fat</td>\n",
       "      <td>249.8092</td>\n",
       "      <td>0.016047</td>\n",
       "      <td>OUT049</td>\n",
       "      <td>1999</td>\n",
       "      <td>medium</td>\n",
       "      <td>2</td>\n",
       "      <td>Tier 1</td>\n",
       "      <td>Supermarket Type1</td>\n",
       "      <td>3735.1380</td>\n",
       "      <td>933071.84</td>\n",
       "    </tr>\n",
       "    <tr>\n",
       "      <th>1</th>\n",
       "      <td>DRC01</td>\n",
       "      <td>5.92</td>\n",
       "      <td>Soft Drinks</td>\n",
       "      <td>Regular</td>\n",
       "      <td>48.2692</td>\n",
       "      <td>0.019278</td>\n",
       "      <td>OUT018</td>\n",
       "      <td>2009</td>\n",
       "      <td>medium</td>\n",
       "      <td>2</td>\n",
       "      <td>Tier 3</td>\n",
       "      <td>Supermarket Type2</td>\n",
       "      <td>443.4228</td>\n",
       "      <td>21403.66</td>\n",
       "    </tr>\n",
       "    <tr>\n",
       "      <th>2</th>\n",
       "      <td>FDN15</td>\n",
       "      <td>17.50</td>\n",
       "      <td>Meat</td>\n",
       "      <td>Low Fat</td>\n",
       "      <td>141.6180</td>\n",
       "      <td>0.016760</td>\n",
       "      <td>OUT049</td>\n",
       "      <td>1999</td>\n",
       "      <td>medium</td>\n",
       "      <td>2</td>\n",
       "      <td>Tier 1</td>\n",
       "      <td>Supermarket Type1</td>\n",
       "      <td>2097.2700</td>\n",
       "      <td>297011.18</td>\n",
       "    </tr>\n",
       "    <tr>\n",
       "      <th>3</th>\n",
       "      <td>FDX07</td>\n",
       "      <td>19.20</td>\n",
       "      <td>Fruits and Vegetables</td>\n",
       "      <td>Regular</td>\n",
       "      <td>182.0950</td>\n",
       "      <td>0.000000</td>\n",
       "      <td>OUT010</td>\n",
       "      <td>1998</td>\n",
       "      <td>medium</td>\n",
       "      <td>2</td>\n",
       "      <td>Tier 3</td>\n",
       "      <td>Grocery Store</td>\n",
       "      <td>732.3800</td>\n",
       "      <td>133362.74</td>\n",
       "    </tr>\n",
       "    <tr>\n",
       "      <th>4</th>\n",
       "      <td>NCD19</td>\n",
       "      <td>8.93</td>\n",
       "      <td>Household</td>\n",
       "      <td>Low Fat</td>\n",
       "      <td>53.8614</td>\n",
       "      <td>0.000000</td>\n",
       "      <td>OUT013</td>\n",
       "      <td>1987</td>\n",
       "      <td>high</td>\n",
       "      <td>3</td>\n",
       "      <td>Tier 3</td>\n",
       "      <td>Supermarket Type1</td>\n",
       "      <td>994.7052</td>\n",
       "      <td>53576.21</td>\n",
       "    </tr>\n",
       "  </tbody>\n",
       "</table>\n",
       "</div>"
      ],
      "text/plain": [
       "      item_identifier  item_weight              item_type item_fat_content  \\\n",
       "index                                                                        \n",
       "0               FDA15         9.30                  Dairy          Low Fat   \n",
       "1               DRC01         5.92            Soft Drinks          Regular   \n",
       "2               FDN15        17.50                   Meat          Low Fat   \n",
       "3               FDX07        19.20  Fruits and Vegetables          Regular   \n",
       "4               NCD19         8.93              Household          Low Fat   \n",
       "\n",
       "       item_mrp  item_visibility outlet_identifier  outlet_establishment_year  \\\n",
       "index                                                                           \n",
       "0      249.8092         0.016047            OUT049                       1999   \n",
       "1       48.2692         0.019278            OUT018                       2009   \n",
       "2      141.6180         0.016760            OUT049                       1999   \n",
       "3      182.0950         0.000000            OUT010                       1998   \n",
       "4       53.8614         0.000000            OUT013                       1987   \n",
       "\n",
       "      outlet_size_str  outlet_size_num outlet_location_type  \\\n",
       "index                                                         \n",
       "0              medium                2               Tier 1   \n",
       "1              medium                2               Tier 3   \n",
       "2              medium                2               Tier 1   \n",
       "3              medium                2               Tier 3   \n",
       "4                high                3               Tier 3   \n",
       "\n",
       "             outlet_type  item_outlet_sales  outlet_item_revenue  \n",
       "index                                                             \n",
       "0      Supermarket Type1          3735.1380            933071.84  \n",
       "1      Supermarket Type2           443.4228             21403.66  \n",
       "2      Supermarket Type1          2097.2700            297011.18  \n",
       "3          Grocery Store           732.3800            133362.74  \n",
       "4      Supermarket Type1           994.7052             53576.21  "
      ]
     },
     "execution_count": 70,
     "metadata": {},
     "output_type": "execute_result"
    }
   ],
   "source": [
    "df.head()"
   ]
  },
  {
   "cell_type": "code",
   "execution_count": 71,
   "metadata": {},
   "outputs": [
    {
     "data": {
      "text/plain": [
       "(8523, 14)"
      ]
     },
     "execution_count": 71,
     "metadata": {},
     "output_type": "execute_result"
    }
   ],
   "source": [
    "df.shape"
   ]
  },
  {
   "cell_type": "code",
   "execution_count": 72,
   "metadata": {},
   "outputs": [
    {
     "data": {
      "text/plain": [
       "<AxesSubplot:>"
      ]
     },
     "execution_count": 72,
     "metadata": {},
     "output_type": "execute_result"
    },
    {
     "data": {
      "image/png": "[encoded data removed]",
      "text/plain": [
       "<Figure size 640x480 with 1 Axes>"
      ]
     },
     "metadata": {},
     "output_type": "display_data"
    }
   ],
   "source": [
    "# pembuatan boxplot\n",
    "df.item_mrp.plot(kind='box')"
   ]
  },
  {
   "attachments": {},
   "cell_type": "markdown",
   "metadata": {},
   "source": [
    "tidak ada outlier yang terlihat pada boxplot kolom item mrp"
   ]
  },
  {
   "cell_type": "code",
   "execution_count": 73,
   "metadata": {},
   "outputs": [
    {
     "name": "stderr",
     "output_type": "stream",
     "text": [
      "c:\\Users\\ravin\\anaconda3\\lib\\site-packages\\seaborn\\distributions.py:2619: FutureWarning: `distplot` is a deprecated function and will be removed in a future version. Please adapt your code to use either `displot` (a figure-level function with similar flexibility) or `histplot` (an axes-level function for histograms).\n",
      "  warnings.warn(msg, FutureWarning)\n"
     ]
    },
    {
     "data": {
      "text/plain": [
       "<AxesSubplot:xlabel='item_mrp', ylabel='Density'>"
      ]
     },
     "execution_count": 73,
     "metadata": {},
     "output_type": "execute_result"
    },
    {
     "data": {
      "image/png": "[encoded data removed]",
      "text/plain": [
       "<Figure size 640x480 with 1 Axes>"
      ]
     },
     "metadata": {},
     "output_type": "display_data"
    }
   ],
   "source": [
    "# plot distribusi rata rataharga barang\n",
    "sns.distplot(df.item_mrp)"
   ]
  },
  {
   "cell_type": "code",
   "execution_count": 74,
   "metadata": {},
   "outputs": [
    {
     "name": "stdout",
     "output_type": "stream",
     "text": [
      "Nilai mean dari Item Max Retail Price (Item MRP) adalah      : 140.9927819781768\n",
      "Nilai median dari Item Max Retail Price (Item MRP) adalah    : 143.0128\n",
      "Nilai mode dari Item Max Retail Price (Item MRP) adalah      : 172.0422\n"
     ]
    }
   ],
   "source": [
    "# central tendency dari harga barang\n",
    "\n",
    "print('Nilai mean dari Item Max Retail Price (Item MRP) adalah      :', df.item_mrp.mean())\n",
    "print('Nilai median dari Item Max Retail Price (Item MRP) adalah    :', df.item_mrp.median())\n",
    "print('Nilai mode dari Item Max Retail Price (Item MRP) adalah      :', df.item_mrp.mode()[0])"
   ]
  },
  {
   "cell_type": "code",
   "execution_count": 75,
   "metadata": {},
   "outputs": [
    {
     "data": {
      "text/plain": [
       "0.1272022683110526"
      ]
     },
     "execution_count": 75,
     "metadata": {},
     "output_type": "execute_result"
    }
   ],
   "source": [
    "# skewness dari data\n",
    "df.item_mrp.skew()"
   ]
  },
  {
   "attachments": {},
   "cell_type": "markdown",
   "metadata": {},
   "source": [
    "Tingkat skewness hanya 0.12 saja, ini berarti grafik masih bisa dikategorikan sebagai Normal Distribution"
   ]
  },
  {
   "cell_type": "code",
   "execution_count": 76,
   "metadata": {},
   "outputs": [
    {
     "name": "stdout",
     "output_type": "stream",
     "text": [
      "263.0496694769064 \n",
      "\n",
      "140.9927819781768\n"
     ]
    }
   ],
   "source": [
    "# menghitung confidence level\n",
    "\n",
    "ci_df = stats.norm.interval(0.95, df.item_mrp.mean(), df.item_mrp.std()) # Mneghitung Convidence Interval\n",
    "\n",
    "print(ci_df[1], '\\n')\n",
    "\n",
    "print(df.item_mrp.mean())"
   ]
  },
  {
   "cell_type": "code",
   "execution_count": 77,
   "metadata": {},
   "outputs": [
    {
     "name": "stderr",
     "output_type": "stream",
     "text": [
      "c:\\Users\\ravin\\anaconda3\\lib\\site-packages\\seaborn\\distributions.py:2619: FutureWarning: `distplot` is a deprecated function and will be removed in a future version. Please adapt your code to use either `displot` (a figure-level function with similar flexibility) or `histplot` (an axes-level function for histograms).\n",
      "  warnings.warn(msg, FutureWarning)\n"
     ]
    },
    {
     "data": {
      "text/plain": [
       "<matplotlib.legend.Legend at 0x11d24569850>"
      ]
     },
     "execution_count": 77,
     "metadata": {},
     "output_type": "execute_result"
    },
    {
     "data": {
      "image/png": "[encoded data removed]",
      "text/plain": [
       "<Figure size 1000x500 with 1 Axes>"
      ]
     },
     "metadata": {},
     "output_type": "display_data"
    }
   ],
   "source": [
    "# plotting confidence interval\n",
    "\n",
    "data_l = np.random.normal(df.item_mrp.mean(), df.item_mrp.std(),1000)\n",
    "\n",
    "ci = stats.norm.interval(0.95, df.item_mrp.mean(), df.item_mrp.std())\n",
    "\n",
    "plt.figure(figsize=(10,5))\n",
    "\n",
    "sns.distplot(df['item_mrp'], label='Item Max. Price', color='blue')\n",
    "\n",
    "plt.axvline(df.item_mrp.mean(), color='red', linewidth=2, label='Item Max. Price (Mean)')\n",
    "\n",
    "plt.axvline(ci[1], color='green', linestyle='dashed', linewidth=2, label='confidence threshold of 95%')\n",
    "plt.axvline(ci[0], color='green', linestyle='dashed', linewidth=2,)\n",
    "\n",
    "\n",
    "plt.legend()"
   ]
  },
  {
   "cell_type": "code",
   "execution_count": 79,
   "metadata": {},
   "outputs": [
    {
     "data": {
      "text/plain": [
       "266.8884"
      ]
     },
     "execution_count": 79,
     "metadata": {},
     "output_type": "execute_result"
    }
   ],
   "source": [
    "df.item_mrp.max()"
   ]
  },
  {
   "attachments": {},
   "cell_type": "markdown",
   "metadata": {},
   "source": [
    "**Insight** \n",
    "- Dari perhitungan diatas dapat disimpulkan bahwa nilai harga maksimum rata rata sebaiknya diatas 263.04 USD agar bisa dikatakan signifikan dan agar rata rata harga maksimal toko sleama ini benar benar bisa dikatakan meningkat."
   ]
  },
  {
   "cell_type": "code",
   "execution_count": 78,
   "metadata": {},
   "outputs": [
    {
     "name": "stdout",
     "output_type": "stream",
     "text": [
      "P-value: 0.9914627250697885\n",
      "t-statistics: -0.010700405476432896\n"
     ]
    }
   ],
   "source": [
    "# testing p value dengan nila mean 141 sesuai mean harga\n",
    "\n",
    "t_stat,p_val = stats.ttest_1samp(df.item_mrp, 141)\n",
    "print('P-value:',p_val)\n",
    "print('t-statistics:',t_stat)"
   ]
  },
  {
   "attachments": {},
   "cell_type": "markdown",
   "metadata": {},
   "source": [
    "## Problem Statement dan SMART ! "
   ]
  },
  {
   "attachments": {},
   "cell_type": "markdown",
   "metadata": {},
   "source": [
    "Problem Statement : Franchise Toko Big Store sedang mengalami kemunduran revenue, dari data, buatlah analisa dan rekomendasi yang tepat. "
   ]
  },
  {
   "attachments": {},
   "cell_type": "markdown",
   "metadata": {},
   "source": [
    "SMART ANALYSIS\n",
    "\n",
    "1. Specific         : Ingin menaikkan penjualan dan revenue di akhir taun 2014 sebanyak 30%\n",
    "\n",
    "\n",
    "2. Measurable       : \n",
    "                        \n",
    "    - Q1 2014    : Menambah variasi item item yang memiliki potensi jual yang tinggi seperti Seafood an Starchy Food   \n",
    "\n",
    "    - Q2 2014    : Menaikkan harga secara bertahap sampai Q4 \n",
    "\n",
    "    - Perlahan menambahkan jenis produk dengan kategori rendah lemak mensesuaikan dengan trend 2013 yang ada. \n",
    "\n",
    "    - Perlahan mencari investor untuk membuka toko baru dengan tipe toko yang direkomendasikan\n",
    "\n",
    "\n",
    "3. Attainable       :   Adanya potensi penjualan yang baik dilihat dari harga rata rata maksimum yang berbanding lurus dengan penjualan dan ketersediaan data yang memadai\n",
    "\n",
    "\n",
    "\n",
    "4. Relevant          : Bila secara baik dapat memanfaatkan potensi-potensi item dan tipe toko yang ada, maka akan berdampak pada meningkatnya penjualan begitupula revenue dalam jangka panjang.\n",
    "\n",
    "\n",
    "5. Time.bound       : Di akhir taun 2014"
   ]
  },
  {
   "attachments": {},
   "cell_type": "markdown",
   "metadata": {},
   "source": [
    "## Rekomendasi "
   ]
  },
  {
   "attachments": {},
   "cell_type": "markdown",
   "metadata": {},
   "source": [
    "Dari penjabaran masalah dan problem statement, rekomendasi yang bisa diberikan adalah :\n",
    "- Rekomendasi produk :\n",
    "    - dari hasil analisa diatas, penulis merekomendasikan untuk produk dengan kategori Seafood dan Starfcy food agar bisa dikembangkan lagi variasinya, tentu karena melihat tingkat penjualan rata rata yang tinggi walaupun variasinya tidak sebanyak produk kategori lain. \n",
    "    - Untuk produk dengan tinkat kadar lemak low fat, bisa tetap menjadi andalah di pasar, tambahkan variasinya dan stocknya juga.\n",
    "    - Rekomendasi dari segi harga, lebih baik ditingkatkan dinaikkan saja sampai rata rata nilai maksimum seluruh produk diatas 263.04 USD. Seharusnya ini dapat diimplementasikan secara teoritis, karena secara umum tidak adanya korelasi negatif antara harga maksimum barang dan jumlah penjualan.\n",
    "\n",
    "\n",
    "    .\n",
    "\n",
    "- Rekomendasi tempat :  jikalau suatu saat ingin membuka toko baru, bukalah tipe Supermarket 1 karena menurut data penjualan, supermarket tipe 1 adalah yang paling tinggi nilai penjualannya. Untuk ukuran toko dan letak kota, penulis rasa tidak ada pengaruh yang signifikan."
   ]
  }
 ],
 "metadata": {
  "kernelspec": {
   "display_name": "base",
   "language": "python",
   "name": "python3"
  },
  "language_info": {
   "codemirror_mode": {
    "name": "ipython",
    "version": 3
   },
   "file_extension": ".py",
   "mimetype": "text/x-python",
   "name": "python",
   "nbconvert_exporter": "python",
   "pygments_lexer": "ipython3",
   "version": "3.9.13"
  },
  "orig_nbformat": 4,
  "vscode": {
   "interpreter": {
    "hash": "8671b74e41fa8fd45934e052daf494643d7321c2b03cbd8049b89d906e54e2c6"
   }
  }
 },
 "nbformat": 4,
 "nbformat_minor": 2
}
